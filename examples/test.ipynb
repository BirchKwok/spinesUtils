{
 "cells": [
  {
   "cell_type": "code",
   "execution_count": 1,
   "id": "77e76db2-b6af-415c-be3a-74ccd0f6c5fb",
   "metadata": {
    "tags": []
   },
   "outputs": [],
   "source": [
    "import sys\n",
    "\n",
    "sys.path.append('..')\n",
    "\n",
    "from spinesUtils import *\n",
    "import pandas as pd"
   ]
  },
  {
   "cell_type": "code",
   "execution_count": 2,
   "id": "c4613ffc-05ff-430f-9a9d-52a25dda38e1",
   "metadata": {
    "tags": []
   },
   "outputs": [],
   "source": [
    "df = dataloader('/Users/guobingming/Downloads/dataset.csv', turbo_method='dask', transform2low_mem=False)"
   ]
  },
  {
   "cell_type": "code",
   "execution_count": 3,
   "id": "79a0bb18-9444-480b-adda-9861537abe04",
   "metadata": {
    "tags": []
   },
   "outputs": [
    {
     "data": {
      "text/plain": [
       "Index(['vip_end_days', 'is_bought_today', 'unwatching_days', 'watch_last_nums',\n",
       "       'daydiff', 'before_last_date', 'vod_play_pv', 'vod_cnt', 'vod_vv',\n",
       "       'vod_over_pv',\n",
       "       ...\n",
       "       'next_login_monthdiff', 'next_login_weekdiff', 'next_daydiff',\n",
       "       'next_login_vip_valid_month', 'lost_7_remain_ds', 'lost_15_remain_ds',\n",
       "       'lost_7_remain_days_td', 'lost_15_remain_days_td',\n",
       "       'next_cumulative_login_ds', 'next_login_7ds_freq'],\n",
       "      dtype='object', length=193)"
      ]
     },
     "execution_count": 3,
     "metadata": {},
     "output_type": "execute_result"
    }
   ],
   "source": [
    "df = df.iloc[:1000000, :]\n",
    "df = df[select_numeric_cols(df)]\n",
    "df.columns"
   ]
  },
  {
   "cell_type": "code",
   "execution_count": 4,
   "id": "4beede95-9cde-42a8-8aec-430a9357dcb8",
   "metadata": {
    "tags": []
   },
   "outputs": [],
   "source": [
    "y_col = 'is_losing_user'"
   ]
  },
  {
   "cell_type": "code",
   "execution_count": 5,
   "id": "6c801df0-818e-4f9e-9f90-9629e8da361a",
   "metadata": {
    "tags": []
   },
   "outputs": [],
   "source": [
    "x_cols = get_x_cols(df, y_col, exclude_columns=['dt', 'userid'])"
   ]
  },
  {
   "cell_type": "code",
   "execution_count": 6,
   "id": "991ea24b-097a-44b4-976a-e3edd6a48a25",
   "metadata": {
    "tags": []
   },
   "outputs": [
    {
     "data": {
      "text/html": [
       "<div>\n",
       "<style scoped>\n",
       "    .dataframe tbody tr th:only-of-type {\n",
       "        vertical-align: middle;\n",
       "    }\n",
       "\n",
       "    .dataframe tbody tr th {\n",
       "        vertical-align: top;\n",
       "    }\n",
       "\n",
       "    .dataframe thead th {\n",
       "        text-align: right;\n",
       "    }\n",
       "</style>\n",
       "<table border=\"1\" class=\"dataframe\">\n",
       "  <thead>\n",
       "    <tr style=\"text-align: right;\">\n",
       "      <th></th>\n",
       "      <th>sample_count</th>\n",
       "      <th>rate</th>\n",
       "    </tr>\n",
       "    <tr>\n",
       "      <th>is_losing_user</th>\n",
       "      <th></th>\n",
       "      <th></th>\n",
       "    </tr>\n",
       "  </thead>\n",
       "  <tbody>\n",
       "    <tr>\n",
       "      <th>0.0</th>\n",
       "      <td>953048</td>\n",
       "      <td>95.3%</td>\n",
       "    </tr>\n",
       "    <tr>\n",
       "      <th>1.0</th>\n",
       "      <td>46952</td>\n",
       "      <td>4.7%</td>\n",
       "    </tr>\n",
       "  </tbody>\n",
       "</table>\n",
       "</div>"
      ],
      "text/plain": [
       "                sample_count   rate\n",
       "is_losing_user                     \n",
       "0.0                   953048  95.3%\n",
       "1.0                    46952   4.7%"
      ]
     },
     "execution_count": 6,
     "metadata": {},
     "output_type": "execute_result"
    }
   ],
   "source": [
    "classify_samples_dist(df, y_col)"
   ]
  },
  {
   "cell_type": "code",
   "execution_count": 7,
   "id": "c67e6751-7228-4274-a76c-eed9b342325d",
   "metadata": {
    "tags": []
   },
   "outputs": [],
   "source": [
    "from lightgbm import LGBMClassifier\n",
    "classifier = BinaryBalanceClassifier(meta_estimators=[LGBMClassifier(), LGBMClassifier()])"
   ]
  },
  {
   "cell_type": "code",
   "execution_count": 8,
   "id": "099707e5-e1c1-4c1c-9e46-dce675cd917d",
   "metadata": {
    "tags": []
   },
   "outputs": [
    {
     "name": "stderr",
     "output_type": "stream",
     "text": [
      "18:28:12 2023-09-19 - [Main step] X type is pandas dataframe, y type is pandas series.\n",
      "18:28:12 2023-09-19 - [Category columns] \n",
      "18:28:12 2023-09-19 - [Main step] Prepare to fit.\n",
      "18:28:12 2023-09-19 - [Model L1] Training samples shape is (1000000, 192), sample size ratio is {0.0: 0.95, 1.0: 0.05}\n",
      "18:28:12 2023-09-19 - [Main step] Model L1 fitted.\n",
      "18:28:13 2023-09-19 - [Main step] Datasets split for model L2.\n",
      "18:28:13 2023-09-19 - [Model L2] Training samples shape is (93904, 192), sample size ratio is {0.0: 0.5, 1.0: 0.5}\n",
      "18:28:15 2023-09-19 - [Main step] Model L2 fitted.\n",
      "18:28:16 2023-09-19 - [Main step] Datasets split for model L3.\n",
      "18:28:16 2023-09-19 - [Model L3] Training samples shape is (273731, 192), sample size ratio is {0.0: 0.86, 1.0: 0.14}\n",
      "18:28:21 2023-09-19 - [Main step] Model L3 fitted.\n",
      "18:28:21 2023-09-19 - [Main step] start to search probability threshold...\n",
      "18:28:21 2023-09-19 - Automatically searching...\n",
      "18:28:23 2023-09-19 - [current loop] try threshold: 0.0, max f1 score: 0.08969274618129579,  best threshold: 0.0\n",
      "18:28:23 2023-09-19 - [current loop] try threshold: 0.04, max f1 score: 0.09887398492184898,  best threshold: 0.04\n",
      "18:28:23 2023-09-19 - [current loop] try threshold: 0.08, max f1 score: 0.11261379541277111,  best threshold: 0.08\n",
      "18:28:24 2023-09-19 - [current loop] try threshold: 0.12, max f1 score: 0.12535733392416146,  best threshold: 0.12\n",
      "18:28:24 2023-09-19 - [current loop] try threshold: 0.16, max f1 score: 0.13699291621520518,  best threshold: 0.16\n",
      "18:28:25 2023-09-19 - [current loop] try threshold: 0.2, max f1 score: 0.14816843100343086,  best threshold: 0.2\n",
      "18:28:25 2023-09-19 - [current loop] try threshold: 0.24, max f1 score: 0.15930989398288944,  best threshold: 0.24\n",
      "18:28:25 2023-09-19 - [current loop] try threshold: 0.28, max f1 score: 0.17048848431927857,  best threshold: 0.28\n",
      "18:28:26 2023-09-19 - [current loop] try threshold: 0.32, max f1 score: 0.18202451679881976,  best threshold: 0.32\n",
      "18:28:26 2023-09-19 - [current loop] try threshold: 0.36, max f1 score: 0.19391693261498694,  best threshold: 0.36\n",
      "18:28:26 2023-09-19 - [current loop] try threshold: 0.4, max f1 score: 0.20657635406531447,  best threshold: 0.4\n",
      "18:28:27 2023-09-19 - [current loop] try threshold: 0.44, max f1 score: 0.219250478282049,  best threshold: 0.44\n",
      "18:28:27 2023-09-19 - [current loop] try threshold: 0.48, max f1 score: 0.23225299220641535,  best threshold: 0.48\n",
      "18:28:28 2023-09-19 - [current loop] try threshold: 0.52, max f1 score: 0.24586687058623605,  best threshold: 0.52\n",
      "18:28:28 2023-09-19 - [current loop] try threshold: 0.56, max f1 score: 0.25996888325458106,  best threshold: 0.56\n",
      "18:28:28 2023-09-19 - [current loop] try threshold: 0.6, max f1 score: 0.27455904287011007,  best threshold: 0.6\n",
      "18:28:29 2023-09-19 - [current loop] try threshold: 0.64, max f1 score: 0.289136979427998,  best threshold: 0.64\n",
      "18:28:29 2023-09-19 - [current loop] try threshold: 0.68, max f1 score: 0.3041002798531152,  best threshold: 0.68\n",
      "18:28:29 2023-09-19 - [current loop] try threshold: 0.72, max f1 score: 0.31891180342255376,  best threshold: 0.72\n",
      "18:28:30 2023-09-19 - [current loop] try threshold: 0.76, max f1 score: 0.33139858362583546,  best threshold: 0.76\n",
      "18:28:30 2023-09-19 - [current loop] try threshold: 0.8, max f1 score: 0.33767030707100865,  best threshold: 0.8\n",
      "18:28:30 2023-09-19 - [current loop] try threshold: 0.84, max f1 score: 0.33767030707100865,  best threshold: 0.8\n",
      "18:28:31 2023-09-19 - [current loop] try threshold: 0.85, max f1 score: 0.33767030707100865,  best threshold: 0.8\n",
      "18:28:31 2023-09-19 - [current loop] try threshold: 0.86, max f1 score: 0.33767030707100865,  best threshold: 0.8\n",
      "18:28:31 2023-09-19 - [current loop] try threshold: 0.87, max f1 score: 0.33767030707100865,  best threshold: 0.8\n",
      "18:28:32 2023-09-19 - [early stopping]  max f1 score: 0.33767030707100865,  best threshold: 0.8\n",
      "18:28:32 2023-09-19 - [floating loop 1] Positive floating searching...\n",
      "18:28:32 2023-09-19 - [current loop] try threshold: 0.8, max f1 score: 0.33767030707100865,  best threshold: 0.8\n",
      "18:28:32 2023-09-19 - [current loop] try threshold: 0.804, max f1 score: 0.33777627233466,  best threshold: 0.804\n",
      "18:28:33 2023-09-19 - [current loop] try threshold: 0.808, max f1 score: 0.33777627233466,  best threshold: 0.804\n",
      "18:28:33 2023-09-19 - [current loop] try threshold: 0.809, max f1 score: 0.33777627233466,  best threshold: 0.804\n",
      "18:28:34 2023-09-19 - [current loop] try threshold: 0.81, max f1 score: 0.33777627233466,  best threshold: 0.804\n",
      "18:28:34 2023-09-19 - [current loop] try threshold: 0.811, max f1 score: 0.33777627233466,  best threshold: 0.804\n",
      "18:28:34 2023-09-19 - [early stopping]  max f1 score: 0.33777627233466,  best threshold: 0.804\n",
      "18:28:34 2023-09-19 - [floating loop 1] Negative floating searching...\n",
      "18:28:35 2023-09-19 - [current loop] try threshold: 0.8, max f1 score: 0.33767030707100865,  best threshold: 0.8\n",
      "18:28:35 2023-09-19 - [current loop] try threshold: 0.796, max f1 score: 0.33767030707100865,  best threshold: 0.8\n",
      "18:28:35 2023-09-19 - [current loop] try threshold: 0.795, max f1 score: 0.33767030707100865,  best threshold: 0.8\n",
      "18:28:36 2023-09-19 - [current loop] try threshold: 0.794, max f1 score: 0.33767030707100865,  best threshold: 0.8\n",
      "18:28:36 2023-09-19 - [current loop] try threshold: 0.793, max f1 score: 0.33767030707100865,  best threshold: 0.8\n",
      "18:28:36 2023-09-19 - [early stopping]  max f1 score: 0.33767030707100865,  best threshold: 0.8\n",
      "18:28:36 2023-09-19 - [floating loop 2] Positive floating searching...\n",
      "18:28:37 2023-09-19 - [current loop] try threshold: 0.804, max f1 score: 0.33777627233466,  best threshold: 0.804\n",
      "18:28:37 2023-09-19 - [current loop] try threshold: 0.8044, max f1 score: 0.33779769482779104,  best threshold: 0.8044\n",
      "18:28:37 2023-09-19 - [current loop] try threshold: 0.8048, max f1 score: 0.3379069233321141,  best threshold: 0.8048\n",
      "18:28:38 2023-09-19 - [current loop] try threshold: 0.8051999999999999, max f1 score: 0.3379561359393779,  best threshold: 0.8051999999999999\n",
      "18:28:38 2023-09-19 - [current loop] try threshold: 0.8055999999999999, max f1 score: 0.3379561359393779,  best threshold: 0.8051999999999999\n",
      "18:28:38 2023-09-19 - [current loop] try threshold: 0.8056999999999999, max f1 score: 0.3379561359393779,  best threshold: 0.8051999999999999\n",
      "18:28:39 2023-09-19 - [current loop] try threshold: 0.8057999999999998, max f1 score: 0.33801973762977405,  best threshold: 0.8057999999999998\n",
      "18:28:39 2023-09-19 - [current loop] try threshold: 0.8061999999999998, max f1 score: 0.33801973762977405,  best threshold: 0.8057999999999998\n",
      "18:28:39 2023-09-19 - [current loop] try threshold: 0.8062999999999998, max f1 score: 0.33801973762977405,  best threshold: 0.8057999999999998\n",
      "18:28:40 2023-09-19 - [current loop] try threshold: 0.8063999999999998, max f1 score: 0.33801973762977405,  best threshold: 0.8057999999999998\n",
      "18:28:40 2023-09-19 - [current loop] try threshold: 0.8064999999999998, max f1 score: 0.33801973762977405,  best threshold: 0.8057999999999998\n",
      "18:28:41 2023-09-19 - [early stopping]  max f1 score: 0.33801973762977405,  best threshold: 0.8057999999999998\n",
      "18:28:41 2023-09-19 - [floating loop 2] Negative floating searching...\n",
      "18:28:41 2023-09-19 - [current loop] try threshold: 0.804, max f1 score: 0.33777627233466,  best threshold: 0.804\n",
      "18:28:41 2023-09-19 - [current loop] try threshold: 0.8036000000000001, max f1 score: 0.3378148846092093,  best threshold: 0.8036000000000001\n",
      "18:28:42 2023-09-19 - [current loop] try threshold: 0.8032000000000001, max f1 score: 0.3378148846092093,  best threshold: 0.8036000000000001\n",
      "18:28:42 2023-09-19 - [current loop] try threshold: 0.8031000000000001, max f1 score: 0.3378148846092093,  best threshold: 0.8036000000000001\n",
      "18:28:42 2023-09-19 - [current loop] try threshold: 0.8030000000000002, max f1 score: 0.3378148846092093,  best threshold: 0.8036000000000001\n",
      "18:28:43 2023-09-19 - [current loop] try threshold: 0.8029000000000002, max f1 score: 0.3378148846092093,  best threshold: 0.8036000000000001\n",
      "18:28:43 2023-09-19 - [early stopping]  max f1 score: 0.3378148846092093,  best threshold: 0.8036000000000001\n",
      "18:28:43 2023-09-19 - [Global Stopping]  max f1 score: 0.33801973762977405,  best threshold: 0.8057999999999998\n",
      "18:28:43 2023-09-19 - [Model L2 best threshold] threshold:0.8057999999999998, f1_score:0.\n",
      "18:28:43 2023-09-19 - [Main step] Model L2 threshold auto set to 0.8057999999999998.\n",
      "18:28:43 2023-09-19 - Automatically searching...\n",
      "18:28:44 2023-09-19 - [current loop] try threshold: 0.0, max f1 score: 0.08969274618129579,  best threshold: 0.0\n",
      "18:28:45 2023-09-19 - [current loop] try threshold: 0.04, max f1 score: 0.0897452684033615,  best threshold: 0.04\n",
      "18:28:45 2023-09-19 - [current loop] try threshold: 0.08, max f1 score: 0.2155123828657698,  best threshold: 0.08\n",
      "18:28:46 2023-09-19 - [current loop] try threshold: 0.12, max f1 score: 0.3251910504925591,  best threshold: 0.12\n",
      "18:28:46 2023-09-19 - [current loop] try threshold: 0.16, max f1 score: 0.3571355306345733,  best threshold: 0.16\n",
      "18:28:46 2023-09-19 - [current loop] try threshold: 0.2, max f1 score: 0.3571355306345733,  best threshold: 0.16\n",
      "18:28:47 2023-09-19 - [current loop] try threshold: 0.21, max f1 score: 0.3571355306345733,  best threshold: 0.16\n",
      "18:28:47 2023-09-19 - [current loop] try threshold: 0.22, max f1 score: 0.3571355306345733,  best threshold: 0.16\n",
      "18:28:47 2023-09-19 - [current loop] try threshold: 0.23, max f1 score: 0.3571355306345733,  best threshold: 0.16\n",
      "18:28:48 2023-09-19 - [early stopping]  max f1 score: 0.3571355306345733,  best threshold: 0.16\n",
      "18:28:48 2023-09-19 - [floating loop 1] Positive floating searching...\n",
      "18:28:48 2023-09-19 - [current loop] try threshold: 0.16, max f1 score: 0.3571355306345733,  best threshold: 0.16\n",
      "18:28:48 2023-09-19 - [current loop] try threshold: 0.164, max f1 score: 0.35803162457661325,  best threshold: 0.164\n",
      "18:28:49 2023-09-19 - [current loop] try threshold: 0.168, max f1 score: 0.35851334065973656,  best threshold: 0.168\n",
      "18:28:49 2023-09-19 - [current loop] try threshold: 0.17200000000000001, max f1 score: 0.358731801049442,  best threshold: 0.17200000000000001\n",
      "18:28:49 2023-09-19 - [current loop] try threshold: 0.17600000000000002, max f1 score: 0.358731801049442,  best threshold: 0.17200000000000001\n",
      "18:28:50 2023-09-19 - [current loop] try threshold: 0.17700000000000002, max f1 score: 0.358731801049442,  best threshold: 0.17200000000000001\n",
      "18:28:50 2023-09-19 - [current loop] try threshold: 0.17800000000000002, max f1 score: 0.358731801049442,  best threshold: 0.17200000000000001\n",
      "18:28:50 2023-09-19 - [current loop] try threshold: 0.17900000000000002, max f1 score: 0.358731801049442,  best threshold: 0.17200000000000001\n",
      "18:28:51 2023-09-19 - [early stopping]  max f1 score: 0.358731801049442,  best threshold: 0.17200000000000001\n",
      "18:28:51 2023-09-19 - [floating loop 1] Negative floating searching...\n",
      "18:28:51 2023-09-19 - [current loop] try threshold: 0.16, max f1 score: 0.3571355306345733,  best threshold: 0.16\n",
      "18:28:51 2023-09-19 - [current loop] try threshold: 0.156, max f1 score: 0.3571355306345733,  best threshold: 0.16\n",
      "18:28:52 2023-09-19 - [current loop] try threshold: 0.155, max f1 score: 0.3571355306345733,  best threshold: 0.16\n",
      "18:28:52 2023-09-19 - [current loop] try threshold: 0.154, max f1 score: 0.3571355306345733,  best threshold: 0.16\n",
      "18:28:52 2023-09-19 - [current loop] try threshold: 0.153, max f1 score: 0.3571355306345733,  best threshold: 0.16\n",
      "18:28:53 2023-09-19 - [early stopping]  max f1 score: 0.3571355306345733,  best threshold: 0.16\n",
      "18:28:53 2023-09-19 - [floating loop 2] Positive floating searching...\n",
      "18:28:53 2023-09-19 - [current loop] try threshold: 0.17200000000000001, max f1 score: 0.358731801049442,  best threshold: 0.17200000000000001\n",
      "18:28:54 2023-09-19 - [current loop] try threshold: 0.17239999999999997, max f1 score: 0.358731801049442,  best threshold: 0.17200000000000001\n",
      "18:28:54 2023-09-19 - [current loop] try threshold: 0.17249999999999996, max f1 score: 0.358731801049442,  best threshold: 0.17200000000000001\n",
      "18:28:54 2023-09-19 - [current loop] try threshold: 0.17259999999999995, max f1 score: 0.358731801049442,  best threshold: 0.17200000000000001\n",
      "18:28:55 2023-09-19 - [current loop] try threshold: 0.17269999999999994, max f1 score: 0.358731801049442,  best threshold: 0.17200000000000001\n",
      "18:28:55 2023-09-19 - [current loop] try threshold: 0.17279999999999993, max f1 score: 0.3587630396851914,  best threshold: 0.17279999999999993\n",
      "18:28:55 2023-09-19 - [current loop] try threshold: 0.17319999999999988, max f1 score: 0.3588598645530996,  best threshold: 0.17319999999999988\n",
      "18:28:56 2023-09-19 - [current loop] try threshold: 0.17359999999999984, max f1 score: 0.3588598645530996,  best threshold: 0.17319999999999988\n",
      "18:28:56 2023-09-19 - [current loop] try threshold: 0.17369999999999983, max f1 score: 0.3588598645530996,  best threshold: 0.17319999999999988\n",
      "18:28:56 2023-09-19 - [current loop] try threshold: 0.17379999999999982, max f1 score: 0.3588598645530996,  best threshold: 0.17319999999999988\n",
      "18:28:57 2023-09-19 - [current loop] try threshold: 0.1738999999999998, max f1 score: 0.3588598645530996,  best threshold: 0.17319999999999988\n",
      "18:28:57 2023-09-19 - [early stopping]  max f1 score: 0.3588598645530996,  best threshold: 0.17319999999999988\n",
      "18:28:57 2023-09-19 - [floating loop 2] Negative floating searching...\n",
      "18:28:57 2023-09-19 - [current loop] try threshold: 0.17200000000000001, max f1 score: 0.358731801049442,  best threshold: 0.17200000000000001\n",
      "18:28:58 2023-09-19 - [current loop] try threshold: 0.17160000000000006, max f1 score: 0.35879424778761065,  best threshold: 0.17160000000000006\n",
      "18:28:58 2023-09-19 - [current loop] try threshold: 0.1712000000000001, max f1 score: 0.35879424778761065,  best threshold: 0.17160000000000006\n",
      "18:28:58 2023-09-19 - [current loop] try threshold: 0.1711000000000001, max f1 score: 0.35879424778761065,  best threshold: 0.17160000000000006\n",
      "18:28:59 2023-09-19 - [current loop] try threshold: 0.17100000000000012, max f1 score: 0.35879424778761065,  best threshold: 0.17160000000000006\n",
      "18:28:59 2023-09-19 - [current loop] try threshold: 0.17090000000000014, max f1 score: 0.35879424778761065,  best threshold: 0.17160000000000006\n",
      "18:28:59 2023-09-19 - [early stopping]  max f1 score: 0.35879424778761065,  best threshold: 0.17160000000000006\n",
      "18:28:59 2023-09-19 - [Global Stopping]  max f1 score: 0.3588598645530996,  best threshold: 0.17319999999999988\n",
      "18:28:59 2023-09-19 - [Model L3 best threshold] threshold:0.17319999999999988, f1_score:0.\n",
      "18:28:59 2023-09-19 - [Main step] Model L3 threshold auto set to 0.17319999999999988.\n"
     ]
    },
    {
     "data": {
      "text/plain": [
       "<spinesUtils.models._balance_model.BinaryThresholdVotingClassifier at 0x168c3d490>"
      ]
     },
     "execution_count": 8,
     "metadata": {},
     "output_type": "execute_result"
    }
   ],
   "source": [
    "classifier.fit(df[x_cols], df[y_col], threshold_search_set=(df[x_cols], df[y_col]))"
   ]
  },
  {
   "cell_type": "code",
   "execution_count": 9,
   "id": "fccfb0a1-481c-46cf-9f55-1aaf90b5041d",
   "metadata": {
    "tags": []
   },
   "outputs": [
    {
     "data": {
      "text/plain": [
       "frozendict.frozendict({'Model L2': 0.8057999999999998, 'Model L3': 0.17319999999999988})"
      ]
     },
     "execution_count": 9,
     "metadata": {},
     "output_type": "execute_result"
    }
   ],
   "source": [
    "classifier.auto_threshold"
   ]
  },
  {
   "cell_type": "code",
   "execution_count": 10,
   "id": "80876595-65ca-469e-9eb8-0db1c320f334",
   "metadata": {
    "tags": []
   },
   "outputs": [
    {
     "name": "stderr",
     "output_type": "stream",
     "text": [
      "18:29:24 2023-09-19 - [Main step] Prepare to predict. Predict mode:soft\n",
      "18:29:24 2023-09-19 - [Main step] Model L1 has been predicted.\n",
      "18:29:26 2023-09-19 - [Main step] Model L2 has been predicted.\n",
      "18:29:27 2023-09-19 - [Main step] Model L3 has been predicted.\n",
      "18:29:28 2023-09-19 - [Main step] Prepare to predict. Predict mode:soft\n",
      "18:29:28 2023-09-19 - [Main step] Model L1 has been predicted.\n",
      "18:29:29 2023-09-19 - [Main step] Model L2 has been predicted.\n",
      "18:29:30 2023-09-19 - [Main step] Model L3 has been predicted.\n",
      "18:29:31 2023-09-19 - [Main step] Prepare to predict. Predict mode:soft\n",
      "18:29:31 2023-09-19 - [Main step] Model L1 has been predicted.\n",
      "18:29:32 2023-09-19 - [Main step] Model L2 has been predicted.\n",
      "18:29:33 2023-09-19 - [Main step] Model L3 has been predicted.\n"
     ]
    },
    {
     "data": {
      "text/plain": [
       "('f1:',\n",
       " 0.34715722444028907,\n",
       " 'recall:',\n",
       " 0.36575651729425795,\n",
       " 'precision:',\n",
       " 0.330358001654387)"
      ]
     },
     "execution_count": 10,
     "metadata": {},
     "output_type": "execute_result"
    }
   ],
   "source": [
    "from sklearn.metrics import f1_score, recall_score, precision_score\n",
    "(\n",
    "    'f1:', f1_score(df[y_col], classifier.predict(df[x_cols])), \n",
    "    'recall:', recall_score(df[y_col], classifier.predict(df[x_cols])), \n",
    "    'precision:', precision_score(df[y_col], classifier.predict(df[x_cols]))\n",
    ")"
   ]
  },
  {
   "cell_type": "code",
   "execution_count": 11,
   "id": "eea0f837-92d1-41fc-9789-928f5fdf8731",
   "metadata": {
    "tags": []
   },
   "outputs": [
    {
     "data": {
      "text/plain": [
       "('f1:',\n",
       " 0.08120122493332016,\n",
       " 'recall:',\n",
       " 0.04376810359516101,\n",
       " 'precision:',\n",
       " 0.561015561015561)"
      ]
     },
     "execution_count": 11,
     "metadata": {},
     "output_type": "execute_result"
    }
   ],
   "source": [
    "from sklearn.metrics import f1_score, recall_score, precision_score\n",
    "lgb = LGBMClassifier()\n",
    "lgb.fit(df[x_cols], df[y_col])\n",
    "(\n",
    "    'f1:', f1_score(df[y_col], lgb.predict(df[x_cols])), \n",
    "    'recall:', recall_score(df[y_col], lgb.predict(df[x_cols])), \n",
    "    'precision:', precision_score(df[y_col], lgb.predict(df[x_cols]))\n",
    ")"
   ]
  }
 ],
 "metadata": {
  "kernelspec": {
   "display_name": "Python 3 (ipykernel)",
   "language": "python",
   "name": "python3"
  },
  "language_info": {
   "codemirror_mode": {
    "name": "ipython",
    "version": 3
   },
   "file_extension": ".py",
   "mimetype": "text/x-python",
   "name": "python",
   "nbconvert_exporter": "python",
   "pygments_lexer": "ipython3",
   "version": "3.11.4"
  }
 },
 "nbformat": 4,
 "nbformat_minor": 5
}
