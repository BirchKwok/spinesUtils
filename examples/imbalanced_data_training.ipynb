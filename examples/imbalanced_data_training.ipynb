{
 "cells": [
  {
   "cell_type": "code",
   "execution_count": 1,
   "id": "898a275d-f64b-4b2b-97d2-e04c6e95a8e5",
   "metadata": {
    "tags": []
   },
   "outputs": [],
   "source": [
    "import sys\n",
    "sys.path.append('..')"
   ]
  },
  {
   "cell_type": "code",
   "execution_count": 1,
   "id": "77e76db2-b6af-415c-be3a-74ccd0f6c5fb",
   "metadata": {
    "tags": []
   },
   "outputs": [],
   "source": [
    "from spinesUtils import *\n",
    "import pandas as pd"
   ]
  },
  {
   "cell_type": "code",
   "execution_count": 4,
   "id": "c4613ffc-05ff-430f-9a9d-52a25dda38e1",
   "metadata": {
    "tags": []
   },
   "outputs": [
    {
     "data": {
      "application/vnd.jupyter.widget-view+json": {
       "model_id": "9321e13ce4e84cbdaf213ff704257413",
       "version_major": 2,
       "version_minor": 0
      },
      "text/plain": [
       "Converting ...:   0%|          | 0/193 [00:00<?, ?it/s]"
      ]
     },
     "metadata": {},
     "output_type": "display_data"
    },
    {
     "name": "stderr",
     "output_type": "stream",
     "text": [
      "Memory usage before conversion is: 2416.73 MB  \n",
      "Memory usage after conversion is: 1344.8 MB  \n",
      "After conversion, the percentage of memory fluctuation is 44.4 %\n"
     ]
    },
    {
     "name": "stdout",
     "output_type": "stream",
     "text": [
      "16 s ± 0 ns per loop (mean ± std. dev. of 1 run, 1 loop each)\n"
     ]
    },
    {
     "data": {
      "application/vnd.jupyter.widget-view+json": {
       "model_id": "4c9dbd37ea3a4de28b326db9db0d75f2",
       "version_major": 2,
       "version_minor": 0
      },
      "text/plain": [
       "Converting ...:   0%|          | 0/193 [00:00<?, ?it/s]"
      ]
     },
     "metadata": {},
     "output_type": "display_data"
    },
    {
     "name": "stdout",
     "output_type": "stream",
     "text": [
      "4.25 s ± 0 ns per loop (mean ± std. dev. of 1 run, 1 loop each)\n"
     ]
    },
    {
     "name": "stderr",
     "output_type": "stream",
     "text": [
      "Memory usage before conversion is: 2416.73 MB  \n",
      "Memory usage after conversion is: 1344.8 MB  \n",
      "After conversion, the percentage of memory fluctuation is 44.4 %\n"
     ]
    }
   ],
   "source": [
    "%timeit -r 1 -n 1 dataloader('/Users/guobingming/Downloads/dataset.csv', turbo_method='polars', transform2low_mem=True, verbose=True)\n",
    "%timeit -r 1 -n 1 dataloader('/Users/guobingming/Downloads/dataset.csv', turbo_method='pyarrow', transform2low_mem=True, verbose=True)"
   ]
  },
  {
   "cell_type": "code",
   "execution_count": 18,
   "id": "7d35ba2f-9296-4896-b7bd-a7743de21213",
   "metadata": {
    "tags": []
   },
   "outputs": [
    {
     "name": "stdout",
     "output_type": "stream",
     "text": [
      "<class 'pandas.core.frame.DataFrame'>\n",
      "RangeIndex: 1000000 entries, 0 to 999999\n",
      "Columns: 205 entries, dt to next_login_7ds_freq\n",
      "dtypes: float16(178), float32(14), float64(1), object(12)\n",
      "memory usage: 492.1+ MB\n"
     ]
    }
   ],
   "source": [
    "df.info()"
   ]
  },
  {
   "cell_type": "code",
   "execution_count": 19,
   "id": "4beede95-9cde-42a8-8aec-430a9357dcb8",
   "metadata": {
    "tags": []
   },
   "outputs": [],
   "source": [
    "y_col = 'is_losing_user'"
   ]
  },
  {
   "cell_type": "code",
   "execution_count": 20,
   "id": "6c801df0-818e-4f9e-9f90-9629e8da361a",
   "metadata": {
    "tags": []
   },
   "outputs": [],
   "source": [
    "x_cols = get_x_cols(df[select_numeric_cols(df)], y_col, exclude_cols=['dt', 'userid'])"
   ]
  },
  {
   "cell_type": "code",
   "execution_count": 21,
   "id": "991ea24b-097a-44b4-976a-e3edd6a48a25",
   "metadata": {
    "tags": []
   },
   "outputs": [
    {
     "data": {
      "text/html": [
       "<div>\n",
       "<style scoped>\n",
       "    .dataframe tbody tr th:only-of-type {\n",
       "        vertical-align: middle;\n",
       "    }\n",
       "\n",
       "    .dataframe tbody tr th {\n",
       "        vertical-align: top;\n",
       "    }\n",
       "\n",
       "    .dataframe thead th {\n",
       "        text-align: right;\n",
       "    }\n",
       "</style>\n",
       "<table border=\"1\" class=\"dataframe\">\n",
       "  <thead>\n",
       "    <tr style=\"text-align: right;\">\n",
       "      <th></th>\n",
       "      <th>sample_count</th>\n",
       "      <th>rate</th>\n",
       "    </tr>\n",
       "    <tr>\n",
       "      <th>is_losing_user</th>\n",
       "      <th></th>\n",
       "      <th></th>\n",
       "    </tr>\n",
       "  </thead>\n",
       "  <tbody>\n",
       "    <tr>\n",
       "      <th>0.0</th>\n",
       "      <td>953048</td>\n",
       "      <td>95.3%</td>\n",
       "    </tr>\n",
       "    <tr>\n",
       "      <th>1.0</th>\n",
       "      <td>46952</td>\n",
       "      <td>4.7%</td>\n",
       "    </tr>\n",
       "  </tbody>\n",
       "</table>\n",
       "</div>"
      ],
      "text/plain": [
       "                sample_count   rate\n",
       "is_losing_user                     \n",
       "0.0                   953048  95.3%\n",
       "1.0                    46952   4.7%"
      ]
     },
     "execution_count": 21,
     "metadata": {},
     "output_type": "execute_result"
    }
   ],
   "source": [
    "classify_samples_dist(df, y_col)"
   ]
  },
  {
   "cell_type": "code",
   "execution_count": 22,
   "id": "c67e6751-7228-4274-a76c-eed9b342325d",
   "metadata": {
    "tags": []
   },
   "outputs": [],
   "source": [
    "from lightgbm import LGBMClassifier\n",
    "classifier = BinaryBalanceClassifier(meta_estimators=[LGBMClassifier(), LGBMClassifier()], verbose=2)"
   ]
  },
  {
   "cell_type": "code",
   "execution_count": 23,
   "id": "099707e5-e1c1-4c1c-9e46-dce675cd917d",
   "metadata": {
    "tags": []
   },
   "outputs": [
    {
     "name": "stderr",
     "output_type": "stream",
     "text": [
      "17:33:06 2023-09-20 - [Main step] X type is pandas dataframe, y type is pandas series.\n",
      "17:33:06 2023-09-20 - [Category columns] \n",
      "17:33:06 2023-09-20 - [Main step] Prepare to fit.\n",
      "17:33:06 2023-09-20 - [Model L1] Training samples shape is (1000000, 192), sample size ratio is {0.0: 0.95, 1.0: 0.05}\n",
      "17:33:06 2023-09-20 - [Main step] Model L1 fitted.\n",
      "17:33:06 2023-09-20 - [Main step] Datasets split for model L2.\n",
      "17:33:07 2023-09-20 - [Model L2] Training samples shape is (93904, 192), sample size ratio is {0.0: 0.5, 1.0: 0.5}\n",
      "17:33:09 2023-09-20 - [Main step] Model L2 fitted.\n",
      "17:33:11 2023-09-20 - [Main step] Datasets split for model L3.\n",
      "17:33:11 2023-09-20 - [Model L3] Training samples shape is (273727, 192), sample size ratio is {0.0: 0.86, 1.0: 0.14}\n",
      "17:33:15 2023-09-20 - [Main step] Model L3 fitted.\n",
      "17:33:15 2023-09-20 - [Main step] start to search probability threshold...\n",
      "17:33:15 2023-09-20 - Automatically searching...\n",
      "17:33:17 2023-09-20 - [current loop] try threshold: 0.0, max f1 score: 0.08969274618129579,  best threshold: 0.0\n",
      "17:33:18 2023-09-20 - [current loop] try threshold: 0.04, max f1 score: 0.09891815839257202,  best threshold: 0.04\n",
      "17:33:18 2023-09-20 - [current loop] try threshold: 0.08, max f1 score: 0.11274376198458737,  best threshold: 0.08\n",
      "17:33:19 2023-09-20 - [current loop] try threshold: 0.12, max f1 score: 0.12539821346268995,  best threshold: 0.12\n",
      "17:33:19 2023-09-20 - [current loop] try threshold: 0.16, max f1 score: 0.13685263649979304,  best threshold: 0.16\n",
      "17:33:19 2023-09-20 - [current loop] try threshold: 0.2, max f1 score: 0.1478163676032025,  best threshold: 0.2\n",
      "17:33:20 2023-09-20 - [current loop] try threshold: 0.24, max f1 score: 0.15890142921960074,  best threshold: 0.24\n",
      "17:33:20 2023-09-20 - [current loop] try threshold: 0.28, max f1 score: 0.1702603005070188,  best threshold: 0.28\n",
      "17:33:20 2023-09-20 - [current loop] try threshold: 0.32, max f1 score: 0.18175330781113572,  best threshold: 0.32\n",
      "17:33:21 2023-09-20 - [current loop] try threshold: 0.36, max f1 score: 0.19384698408923562,  best threshold: 0.36\n",
      "17:33:21 2023-09-20 - [current loop] try threshold: 0.4, max f1 score: 0.20660256170414437,  best threshold: 0.4\n",
      "17:33:22 2023-09-20 - [current loop] try threshold: 0.44, max f1 score: 0.21918360124678438,  best threshold: 0.44\n",
      "17:33:22 2023-09-20 - [current loop] try threshold: 0.48, max f1 score: 0.23233424484519194,  best threshold: 0.48\n",
      "17:33:22 2023-09-20 - [current loop] try threshold: 0.52, max f1 score: 0.24611705360001568,  best threshold: 0.52\n",
      "17:33:23 2023-09-20 - [current loop] try threshold: 0.56, max f1 score: 0.2596370046588599,  best threshold: 0.56\n",
      "17:33:23 2023-09-20 - [current loop] try threshold: 0.6, max f1 score: 0.2738305568738808,  best threshold: 0.6\n",
      "17:33:23 2023-09-20 - [current loop] try threshold: 0.64, max f1 score: 0.28822683891473005,  best threshold: 0.64\n",
      "17:33:24 2023-09-20 - [current loop] try threshold: 0.68, max f1 score: 0.30329970416445423,  best threshold: 0.68\n",
      "17:33:24 2023-09-20 - [current loop] try threshold: 0.72, max f1 score: 0.3186826633414715,  best threshold: 0.72\n",
      "17:33:24 2023-09-20 - [current loop] try threshold: 0.76, max f1 score: 0.33111068514157405,  best threshold: 0.76\n",
      "17:33:25 2023-09-20 - [current loop] try threshold: 0.8, max f1 score: 0.3374732972328482,  best threshold: 0.8\n",
      "17:33:25 2023-09-20 - [current loop] try threshold: 0.84, max f1 score: 0.3374732972328482,  best threshold: 0.8\n",
      "17:33:25 2023-09-20 - [current loop] try threshold: 0.85, max f1 score: 0.3374732972328482,  best threshold: 0.8\n",
      "17:33:26 2023-09-20 - [current loop] try threshold: 0.86, max f1 score: 0.3374732972328482,  best threshold: 0.8\n",
      "17:33:26 2023-09-20 - [current loop] try threshold: 0.87, max f1 score: 0.3374732972328482,  best threshold: 0.8\n",
      "17:33:26 2023-09-20 - [early stopping]  max f1 score: 0.3374732972328482,  best threshold: 0.8\n",
      "17:33:26 2023-09-20 - [floating loop 1] Positive floating searching...\n",
      "17:33:27 2023-09-20 - [current loop] try threshold: 0.8, max f1 score: 0.3374732972328482,  best threshold: 0.8\n",
      "17:33:27 2023-09-20 - [current loop] try threshold: 0.804, max f1 score: 0.3374732972328482,  best threshold: 0.8\n",
      "17:33:27 2023-09-20 - [current loop] try threshold: 0.805, max f1 score: 0.3374732972328482,  best threshold: 0.8\n",
      "17:33:28 2023-09-20 - [current loop] try threshold: 0.806, max f1 score: 0.3374732972328482,  best threshold: 0.8\n",
      "17:33:28 2023-09-20 - [current loop] try threshold: 0.807, max f1 score: 0.3374732972328482,  best threshold: 0.8\n",
      "17:33:28 2023-09-20 - [early stopping]  max f1 score: 0.3374732972328482,  best threshold: 0.8\n",
      "17:33:28 2023-09-20 - [floating loop 1] Negative floating searching...\n",
      "17:33:29 2023-09-20 - [current loop] try threshold: 0.8, max f1 score: 0.3374732972328482,  best threshold: 0.8\n",
      "17:33:29 2023-09-20 - [current loop] try threshold: 0.796, max f1 score: 0.3374732972328482,  best threshold: 0.8\n",
      "17:33:29 2023-09-20 - [current loop] try threshold: 0.795, max f1 score: 0.3374732972328482,  best threshold: 0.8\n",
      "17:33:30 2023-09-20 - [current loop] try threshold: 0.794, max f1 score: 0.3374732972328482,  best threshold: 0.8\n",
      "17:33:30 2023-09-20 - [current loop] try threshold: 0.793, max f1 score: 0.3374732972328482,  best threshold: 0.8\n",
      "17:33:30 2023-09-20 - [early stopping]  max f1 score: 0.3374732972328482,  best threshold: 0.8\n",
      "17:33:30 2023-09-20 - [Global Stopping]  tried to improve the {metric_name} score, but it had no effect, stopped prematurely.\n",
      "17:33:30 2023-09-20 - [Global Stopping]  max f1 score: 0.3374732972328482,  best threshold: 0.8\n",
      "17:33:30 2023-09-20 - [Model L2 best threshold] threshold:0.8, f1_score:0.\n",
      "17:33:30 2023-09-20 - [Main step] Model L2 threshold auto set to 0.8.\n",
      "17:33:30 2023-09-20 - Automatically searching...\n",
      "17:33:32 2023-09-20 - [current loop] try threshold: 0.0, max f1 score: 0.08969274618129579,  best threshold: 0.0\n",
      "17:33:33 2023-09-20 - [current loop] try threshold: 0.04, max f1 score: 0.08969942896661871,  best threshold: 0.04\n",
      "17:33:33 2023-09-20 - [current loop] try threshold: 0.08, max f1 score: 0.18994241053064584,  best threshold: 0.08\n",
      "17:33:33 2023-09-20 - [current loop] try threshold: 0.12, max f1 score: 0.32571931779379254,  best threshold: 0.12\n",
      "17:33:34 2023-09-20 - [current loop] try threshold: 0.16, max f1 score: 0.36167378781850573,  best threshold: 0.16\n",
      "17:33:34 2023-09-20 - [current loop] try threshold: 0.2, max f1 score: 0.36167378781850573,  best threshold: 0.16\n",
      "17:33:35 2023-09-20 - [current loop] try threshold: 0.21, max f1 score: 0.36167378781850573,  best threshold: 0.16\n",
      "17:33:35 2023-09-20 - [current loop] try threshold: 0.22, max f1 score: 0.36167378781850573,  best threshold: 0.16\n",
      "17:33:35 2023-09-20 - [current loop] try threshold: 0.23, max f1 score: 0.36167378781850573,  best threshold: 0.16\n",
      "17:33:36 2023-09-20 - [early stopping]  max f1 score: 0.36167378781850573,  best threshold: 0.16\n",
      "17:33:36 2023-09-20 - [floating loop 1] Positive floating searching...\n",
      "17:33:36 2023-09-20 - [current loop] try threshold: 0.16, max f1 score: 0.36167378781850573,  best threshold: 0.16\n",
      "17:33:36 2023-09-20 - [current loop] try threshold: 0.164, max f1 score: 0.3620083146786057,  best threshold: 0.164\n",
      "17:33:37 2023-09-20 - [current loop] try threshold: 0.168, max f1 score: 0.36228482003129897,  best threshold: 0.168\n",
      "17:33:37 2023-09-20 - [current loop] try threshold: 0.17200000000000001, max f1 score: 0.36228482003129897,  best threshold: 0.168\n",
      "17:33:37 2023-09-20 - [current loop] try threshold: 0.17300000000000001, max f1 score: 0.36228482003129897,  best threshold: 0.168\n",
      "17:33:38 2023-09-20 - [current loop] try threshold: 0.17400000000000002, max f1 score: 0.3622999943461299,  best threshold: 0.17400000000000002\n",
      "17:33:38 2023-09-20 - [current loop] try threshold: 0.17800000000000002, max f1 score: 0.3622999943461299,  best threshold: 0.17400000000000002\n",
      "17:33:38 2023-09-20 - [current loop] try threshold: 0.17900000000000002, max f1 score: 0.3622999943461299,  best threshold: 0.17400000000000002\n",
      "17:33:39 2023-09-20 - [current loop] try threshold: 0.18000000000000002, max f1 score: 0.3622999943461299,  best threshold: 0.17400000000000002\n",
      "17:33:39 2023-09-20 - [current loop] try threshold: 0.18100000000000002, max f1 score: 0.3622999943461299,  best threshold: 0.17400000000000002\n",
      "17:33:39 2023-09-20 - [early stopping]  max f1 score: 0.3622999943461299,  best threshold: 0.17400000000000002\n",
      "17:33:39 2023-09-20 - [floating loop 1] Negative floating searching...\n",
      "17:33:40 2023-09-20 - [current loop] try threshold: 0.16, max f1 score: 0.36167378781850573,  best threshold: 0.16\n",
      "17:33:40 2023-09-20 - [current loop] try threshold: 0.156, max f1 score: 0.36167378781850573,  best threshold: 0.16\n",
      "17:33:40 2023-09-20 - [current loop] try threshold: 0.155, max f1 score: 0.36167378781850573,  best threshold: 0.16\n",
      "17:33:41 2023-09-20 - [current loop] try threshold: 0.154, max f1 score: 0.36167378781850573,  best threshold: 0.16\n",
      "17:33:41 2023-09-20 - [current loop] try threshold: 0.153, max f1 score: 0.36167378781850573,  best threshold: 0.16\n",
      "17:33:41 2023-09-20 - [early stopping]  max f1 score: 0.36167378781850573,  best threshold: 0.16\n",
      "17:33:41 2023-09-20 - [floating loop 2] Positive floating searching...\n",
      "17:33:42 2023-09-20 - [current loop] try threshold: 0.17400000000000002, max f1 score: 0.3622999943461299,  best threshold: 0.17400000000000002\n",
      "17:33:42 2023-09-20 - [current loop] try threshold: 0.17439999999999997, max f1 score: 0.3623210305617468,  best threshold: 0.17439999999999997\n",
      "17:33:42 2023-09-20 - [current loop] try threshold: 0.17479999999999993, max f1 score: 0.3623210305617468,  best threshold: 0.17439999999999997\n",
      "17:33:43 2023-09-20 - [current loop] try threshold: 0.17489999999999992, max f1 score: 0.3623210305617468,  best threshold: 0.17439999999999997\n",
      "17:33:43 2023-09-20 - [current loop] try threshold: 0.1749999999999999, max f1 score: 0.3623210305617468,  best threshold: 0.17439999999999997\n",
      "17:33:43 2023-09-20 - [current loop] try threshold: 0.1750999999999999, max f1 score: 0.3623210305617468,  best threshold: 0.17439999999999997\n",
      "17:33:44 2023-09-20 - [early stopping]  max f1 score: 0.3623210305617468,  best threshold: 0.17439999999999997\n",
      "17:33:44 2023-09-20 - [floating loop 2] Negative floating searching...\n",
      "17:33:44 2023-09-20 - [current loop] try threshold: 0.17400000000000002, max f1 score: 0.3622999943461299,  best threshold: 0.17400000000000002\n",
      "17:33:44 2023-09-20 - [current loop] try threshold: 0.17360000000000006, max f1 score: 0.3622999943461299,  best threshold: 0.17400000000000002\n",
      "17:33:45 2023-09-20 - [current loop] try threshold: 0.17350000000000007, max f1 score: 0.3622999943461299,  best threshold: 0.17400000000000002\n",
      "17:33:45 2023-09-20 - [current loop] try threshold: 0.17340000000000008, max f1 score: 0.3622999943461299,  best threshold: 0.17400000000000002\n",
      "17:33:45 2023-09-20 - [current loop] try threshold: 0.1733000000000001, max f1 score: 0.3622999943461299,  best threshold: 0.17400000000000002\n",
      "17:33:46 2023-09-20 - [early stopping]  max f1 score: 0.3622999943461299,  best threshold: 0.17400000000000002\n",
      "17:33:46 2023-09-20 - [Global Stopping]  max f1 score: 0.3623210305617468,  best threshold: 0.17439999999999997\n",
      "17:33:46 2023-09-20 - [Model L3 best threshold] threshold:0.17439999999999997, f1_score:0.\n",
      "17:33:46 2023-09-20 - [Main step] Model L3 threshold auto set to 0.17439999999999997.\n"
     ]
    },
    {
     "data": {
      "text/plain": [
       "<spinesUtils.models._balance_model.BinaryBalanceClassifier at 0x177b73f90>"
      ]
     },
     "execution_count": 23,
     "metadata": {},
     "output_type": "execute_result"
    }
   ],
   "source": [
    "classifier.fit(df[x_cols], df[y_col], threshold_search_set=(df[x_cols], df[y_col]))"
   ]
  },
  {
   "cell_type": "code",
   "execution_count": 24,
   "id": "fccfb0a1-481c-46cf-9f55-1aaf90b5041d",
   "metadata": {
    "tags": []
   },
   "outputs": [
    {
     "data": {
      "text/plain": [
       "frozendict.frozendict({'Model L2': 0.8, 'Model L3': 0.17439999999999997})"
      ]
     },
     "execution_count": 24,
     "metadata": {},
     "output_type": "execute_result"
    }
   ],
   "source": [
    "classifier.auto_threshold"
   ]
  },
  {
   "cell_type": "code",
   "execution_count": 25,
   "id": "80876595-65ca-469e-9eb8-0db1c320f334",
   "metadata": {
    "tags": []
   },
   "outputs": [
    {
     "name": "stderr",
     "output_type": "stream",
     "text": [
      "17:34:08 2023-09-20 - [Main step] Prepare to predict. Predict mode:soft\n",
      "17:34:08 2023-09-20 - [Main step] Model L1 has been predicted.\n",
      "17:34:10 2023-09-20 - [Main step] Model L2 has been predicted.\n",
      "17:34:12 2023-09-20 - [Main step] Model L3 has been predicted.\n",
      "17:34:12 2023-09-20 - [Main step] Prepare to predict. Predict mode:soft\n",
      "17:34:12 2023-09-20 - [Main step] Model L1 has been predicted.\n",
      "17:34:14 2023-09-20 - [Main step] Model L2 has been predicted.\n",
      "17:34:16 2023-09-20 - [Main step] Model L3 has been predicted.\n",
      "17:34:17 2023-09-20 - [Main step] Prepare to predict. Predict mode:soft\n",
      "17:34:17 2023-09-20 - [Main step] Model L1 has been predicted.\n",
      "17:34:18 2023-09-20 - [Main step] Model L2 has been predicted.\n",
      "17:34:20 2023-09-20 - [Main step] Model L3 has been predicted.\n"
     ]
    },
    {
     "data": {
      "text/plain": [
       "('f1:',\n",
       " 0.3490528012898025,\n",
       " 'recall:',\n",
       " 0.3688873743397512,\n",
       " 'precision:',\n",
       " 0.3312423500611995)"
      ]
     },
     "execution_count": 25,
     "metadata": {},
     "output_type": "execute_result"
    }
   ],
   "source": [
    "from sklearn.metrics import f1_score, recall_score, precision_score\n",
    "(\n",
    "    'f1:', f1_score(df[y_col], classifier.predict(df[x_cols])), \n",
    "    'recall:', recall_score(df[y_col], classifier.predict(df[x_cols])), \n",
    "    'precision:', precision_score(df[y_col], classifier.predict(df[x_cols]))\n",
    ")"
   ]
  },
  {
   "cell_type": "code",
   "execution_count": 26,
   "id": "eea0f837-92d1-41fc-9789-928f5fdf8731",
   "metadata": {
    "tags": []
   },
   "outputs": [
    {
     "data": {
      "text/plain": [
       "('f1:',\n",
       " 0.08188590511194103,\n",
       " 'recall:',\n",
       " 0.04413017549838132,\n",
       " 'precision:',\n",
       " 0.5668946648426813)"
      ]
     },
     "execution_count": 26,
     "metadata": {},
     "output_type": "execute_result"
    }
   ],
   "source": [
    "from sklearn.metrics import f1_score, recall_score, precision_score\n",
    "lgb = LGBMClassifier()\n",
    "lgb.fit(df[x_cols], df[y_col])\n",
    "(\n",
    "    'f1:', f1_score(df[y_col], lgb.predict(df[x_cols])), \n",
    "    'recall:', recall_score(df[y_col], lgb.predict(df[x_cols])), \n",
    "    'precision:', precision_score(df[y_col], lgb.predict(df[x_cols]))\n",
    ")"
   ]
  }
 ],
 "metadata": {
  "kernelspec": {
   "display_name": "Python 3 (ipykernel)",
   "language": "python",
   "name": "python3"
  },
  "language_info": {
   "codemirror_mode": {
    "name": "ipython",
    "version": 3
   },
   "file_extension": ".py",
   "mimetype": "text/x-python",
   "name": "python",
   "nbconvert_exporter": "python",
   "pygments_lexer": "ipython3",
   "version": "3.11.4"
  }
 },
 "nbformat": 4,
 "nbformat_minor": 5
}
