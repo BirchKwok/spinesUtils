{
 "cells": [
  {
   "cell_type": "code",
   "execution_count": 1,
   "id": "e7467a4a-da21-4e56-899c-7c95108a469a",
   "metadata": {
    "tags": []
   },
   "outputs": [],
   "source": [
    "import sys\n",
    "sys.path.append('..')\n",
    "\n",
    "import spines as ss"
   ]
  },
  {
   "cell_type": "code",
   "execution_count": 7,
   "id": "42dcaf23-0f02-4758-a003-404a83b2668f",
   "metadata": {
    "tags": []
   },
   "outputs": [],
   "source": [
    "import numpy as np\n",
    "import pandas as pd\n",
    "\n",
    "# test_fp_root = '/Users/guobingming/Downloads/'\n",
    "test_fp = '/Users/guobingming/Downloads/ads_mdap_user_lsmd_gbm_model_train_sample_with_lag_df_new_0713.tsv'"
   ]
  },
  {
   "cell_type": "code",
   "execution_count": null,
   "id": "e688ead3-2d05-4277-89f4-dd3cfb1f31b3",
   "metadata": {},
   "outputs": [],
   "source": []
  },
  {
   "cell_type": "code",
   "execution_count": null,
   "id": "038681ed-e160-4569-8f15-dbf665f5d776",
   "metadata": {},
   "outputs": [],
   "source": []
  }
 ],
 "metadata": {
  "kernelspec": {
   "display_name": "Python 3 (ipykernel)",
   "language": "python",
   "name": "python3"
  },
  "language_info": {
   "codemirror_mode": {
    "name": "ipython",
    "version": 3
   },
   "file_extension": ".py",
   "mimetype": "text/x-python",
   "name": "python",
   "nbconvert_exporter": "python",
   "pygments_lexer": "ipython3",
   "version": "3.11.4"
  }
 },
 "nbformat": 4,
 "nbformat_minor": 5
}
