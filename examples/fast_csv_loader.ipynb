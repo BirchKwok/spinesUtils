{
 "cells": [
  {
   "cell_type": "code",
   "execution_count": 1,
   "id": "e7467a4a-da21-4e56-899c-7c95108a469a",
   "metadata": {
    "tags": []
   },
   "outputs": [],
   "source": [
    "import sys\n",
    "sys.path.append('..')\n",
    "\n",
    "import spines as ss"
   ]
  },
  {
   "cell_type": "code",
   "execution_count": 2,
   "id": "42dcaf23-0f02-4758-a003-404a83b2668f",
   "metadata": {
    "tags": []
   },
   "outputs": [],
   "source": [
    "import numpy as np\n",
    "import pandas as pd"
   ]
  },
  {
   "cell_type": "code",
   "execution_count": 3,
   "id": "ab2a2e69-8bcc-4296-8185-04a8af68111f",
   "metadata": {
    "tags": []
   },
   "outputs": [],
   "source": [
    "df = pd.read_csv('./ads_mdap_user_lsmd_gbm_model_train_sample_with_lag_df_new_0713.tsv', sep='\\t')"
   ]
  },
  {
   "cell_type": "code",
   "execution_count": 4,
   "id": "7fcb07b0-a159-4ecc-beaa-9bcb6b479d19",
   "metadata": {
    "tags": []
   },
   "outputs": [
    {
     "name": "stdout",
     "output_type": "stream",
     "text": [
      "<class 'pandas.core.frame.DataFrame'>\n",
      "RangeIndex: 104895 entries, 0 to 104894\n",
      "Columns: 217 entries, dt to ranks\n",
      "dtypes: float64(93), int64(112), object(12)\n",
      "memory usage: 173.7+ MB\n"
     ]
    }
   ],
   "source": [
    "df.info()"
   ]
  },
  {
   "cell_type": "code",
   "execution_count": 3,
   "id": "0dbf6963-ca4b-43c9-a031-defe238e1b49",
   "metadata": {
    "tags": []
   },
   "outputs": [
    {
     "name": "stdout",
     "output_type": "stream",
     "text": [
      "Function create_big_csv took 11.022073030471802 seconds to run.\n"
     ]
    }
   ],
   "source": [
    "@ss.timing_decorator\n",
    "def create_big_csv(rows=10_0000, columns=1000, random_seed=42):\n",
    "    np.random.seed(random_seed)\n",
    "    arr = np.random.randint(0, 100000, size=(rows, columns), dtype=np.int64)\n",
    "    df = pd.DataFrame(arr)\n",
    "    df.to_csv('./arr.csv', index=False)\n",
    "    \n",
    "    return df\n",
    "\n",
    "df = create_big_csv()"
   ]
  },
  {
   "cell_type": "code",
   "execution_count": 5,
   "id": "88853999-9d99-422d-a232-40925bc02779",
   "metadata": {
    "tags": []
   },
   "outputs": [
    {
     "data": {
      "application/vnd.jupyter.widget-view+json": {
       "model_id": "8e9e2932eaa74d93b770ba8bd41f9172",
       "version_major": 2,
       "version_minor": 0
      },
      "text/plain": [
       "Converting ...:   0%|          | 0/205 [00:00<?, ?it/s]"
      ]
     },
     "metadata": {},
     "output_type": "display_data"
    },
    {
     "name": "stdout",
     "output_type": "stream",
     "text": [
      "Memory usage before conversion is: 263.11 MB  \n",
      "Memory usage after conversion is: 139.86 MB  \n",
      "After conversion, the percentage of memory fluctuation is 46.8 %\n"
     ]
    }
   ],
   "source": [
    "ss.transform_dtypes_low_mem(df, inplace=True)"
   ]
  },
  {
   "cell_type": "code",
   "execution_count": 6,
   "id": "87ba7412-7aaf-4ab1-8bef-e4bd77bde0d2",
   "metadata": {
    "tags": []
   },
   "outputs": [
    {
     "name": "stdout",
     "output_type": "stream",
     "text": [
      "发现文件:  ./ads_mdap_user_lsmd_gbm_model_train_sample_with_lag_df_new_0713.tsv\n"
     ]
    },
    {
     "data": {
      "application/vnd.jupyter.widget-view+json": {
       "model_id": "0e5c53b7427f476b869ac21cea3582d9",
       "version_major": 2,
       "version_minor": 0
      },
      "text/plain": [
       "Converting ...:   0%|          | 0/205 [00:00<?, ?it/s]"
      ]
     },
     "metadata": {},
     "output_type": "display_data"
    },
    {
     "name": "stdout",
     "output_type": "stream",
     "text": [
      "Memory usage before conversion is: 263.11 MB  \n",
      "Memory usage after conversion is: 143.87 MB  \n",
      "After conversion, the percentage of memory fluctuation is 45.3 %\n",
      "Function dataloader took 1.9133119583129883 seconds to run.\n",
      "发现文件:  ./ads_mdap_user_lsmd_gbm_model_train_sample_with_lag_df_new_0713.tsv\n"
     ]
    },
    {
     "data": {
      "application/vnd.jupyter.widget-view+json": {
       "model_id": "e855a06bc1534234b72bf478f2bd6dd7",
       "version_major": 2,
       "version_minor": 0
      },
      "text/plain": [
       "Converting ...:   0%|          | 0/205 [00:00<?, ?it/s]"
      ]
     },
     "metadata": {},
     "output_type": "display_data"
    },
    {
     "name": "stdout",
     "output_type": "stream",
     "text": [
      "Memory usage before conversion is: 263.11 MB  \n",
      "Memory usage after conversion is: 143.87 MB  \n",
      "After conversion, the percentage of memory fluctuation is 45.3 %\n",
      "Function dataloader took 1.5032000541687012 seconds to run.\n",
      "发现文件:  ./ads_mdap_user_lsmd_gbm_model_train_sample_with_lag_df_new_0713.tsv\n"
     ]
    },
    {
     "data": {
      "application/vnd.jupyter.widget-view+json": {
       "model_id": "85747ea7f9cc416f8e787d92fa30ce41",
       "version_major": 2,
       "version_minor": 0
      },
      "text/plain": [
       "Converting ...:   0%|          | 0/205 [00:00<?, ?it/s]"
      ]
     },
     "metadata": {},
     "output_type": "display_data"
    },
    {
     "name": "stdout",
     "output_type": "stream",
     "text": [
      "Memory usage before conversion is: 263.11 MB  \n",
      "Memory usage after conversion is: 143.87 MB  \n",
      "After conversion, the percentage of memory fluctuation is 45.3 %\n",
      "Function dataloader took 1.5362260341644287 seconds to run.\n",
      "1.66 s ± 185 ms per loop (mean ± std. dev. of 3 runs, 1 loop each)\n"
     ]
    }
   ],
   "source": [
    "test = ss.timing_decorator(ss.dataloader)\n",
    "%timeit -n 1 -r 3 test('.', 'ads_mdap_user_lsmd_gbm_model_train_sample_with_lag_df_new_0713', search_pkl_first=False, save_as_pkl=False, use_dask=True, sep='\\t')"
   ]
  },
  {
   "cell_type": "code",
   "execution_count": 21,
   "id": "c1a74c26-4b1e-4f55-8df8-978f90e4f8c0",
   "metadata": {
    "tags": []
   },
   "outputs": [
    {
     "data": {
      "application/vnd.jupyter.widget-view+json": {
       "model_id": "00a6d85b768f4e068302604106ddfbf0",
       "version_major": 2,
       "version_minor": 0
      },
      "text/plain": [
       "Converting ...:   0%|          | 0/205 [00:00<?, ?it/s]"
      ]
     },
     "metadata": {},
     "output_type": "display_data"
    },
    {
     "name": "stdout",
     "output_type": "stream",
     "text": [
      "Memory usage before conversion is: 263.11 MB  \n",
      "Memory usage after conversion is: 139.86 MB  \n",
      "After conversion, the percentage of memory fluctuation is 46.8 %\n"
     ]
    },
    {
     "data": {
      "application/vnd.jupyter.widget-view+json": {
       "model_id": "2f9144c874e24f3f996e928ef1b02a8d",
       "version_major": 2,
       "version_minor": 0
      },
      "text/plain": [
       "Converting ...:   0%|          | 0/205 [00:00<?, ?it/s]"
      ]
     },
     "metadata": {},
     "output_type": "display_data"
    },
    {
     "name": "stdout",
     "output_type": "stream",
     "text": [
      "Memory usage before conversion is: 263.11 MB  \n",
      "Memory usage after conversion is: 139.86 MB  \n",
      "After conversion, the percentage of memory fluctuation is 46.8 %\n"
     ]
    },
    {
     "data": {
      "application/vnd.jupyter.widget-view+json": {
       "model_id": "b498517a256e4cb78a7dfd62db86d56d",
       "version_major": 2,
       "version_minor": 0
      },
      "text/plain": [
       "Converting ...:   0%|          | 0/205 [00:00<?, ?it/s]"
      ]
     },
     "metadata": {},
     "output_type": "display_data"
    },
    {
     "name": "stdout",
     "output_type": "stream",
     "text": [
      "Memory usage before conversion is: 263.11 MB  \n",
      "Memory usage after conversion is: 139.86 MB  \n",
      "After conversion, the percentage of memory fluctuation is 46.8 %\n",
      "1.77 s ± 39.8 ms per loop (mean ± std. dev. of 3 runs, 1 loop each)\n"
     ]
    }
   ],
   "source": [
    "%timeit -n 1 -r 3 ss.transform_dtypes_low_mem(pd.read_csv('ads_mdap_user_lsmd_gbm_model_train_sample_with_lag_df_new_0713.tsv', sep='\\t'))"
   ]
  },
  {
   "cell_type": "code",
   "execution_count": 20,
   "id": "1f1ffe49-cc25-4657-9ee8-1faa34e9620b",
   "metadata": {
    "tags": []
   },
   "outputs": [
    {
     "data": {
      "text/html": [
       "<div>\n",
       "<style scoped>\n",
       "    .dataframe tbody tr th:only-of-type {\n",
       "        vertical-align: middle;\n",
       "    }\n",
       "\n",
       "    .dataframe tbody tr th {\n",
       "        vertical-align: top;\n",
       "    }\n",
       "\n",
       "    .dataframe thead th {\n",
       "        text-align: right;\n",
       "    }\n",
       "</style>\n",
       "<table border=\"1\" class=\"dataframe\">\n",
       "  <thead>\n",
       "    <tr style=\"text-align: right;\">\n",
       "      <th></th>\n",
       "      <th>dt</th>\n",
       "      <th>userid</th>\n",
       "      <th>last_category</th>\n",
       "      <th>vip_end_days</th>\n",
       "      <th>vip_effective_type</th>\n",
       "      <th>vip_payment_status</th>\n",
       "      <th>is_bought_today</th>\n",
       "      <th>unwatching_days</th>\n",
       "      <th>watch_last_nums</th>\n",
       "      <th>daydiff</th>\n",
       "      <th>...</th>\n",
       "      <th>next_login_weekdiff</th>\n",
       "      <th>next_daydiff</th>\n",
       "      <th>next_login_vip_valid_month</th>\n",
       "      <th>lost_7_remain_ds</th>\n",
       "      <th>lost_15_remain_ds</th>\n",
       "      <th>lost_7_remain_days_td</th>\n",
       "      <th>lost_15_remain_days_td</th>\n",
       "      <th>next_cumulative_login_ds</th>\n",
       "      <th>next_login_7ds_freq</th>\n",
       "      <th>ranks</th>\n",
       "    </tr>\n",
       "  </thead>\n",
       "  <tbody>\n",
       "    <tr>\n",
       "      <th>0</th>\n",
       "      <td>2023-02-19</td>\n",
       "      <td>61fed51ae99e49909b225e66f29bbaa2</td>\n",
       "      <td>others</td>\n",
       "      <td>243</td>\n",
       "      <td>付费年卡</td>\n",
       "      <td>未付费</td>\n",
       "      <td>0</td>\n",
       "      <td>1</td>\n",
       "      <td>0</td>\n",
       "      <td>461</td>\n",
       "      <td>...</td>\n",
       "      <td>-0.142857</td>\n",
       "      <td>460</td>\n",
       "      <td>8.066667</td>\n",
       "      <td>8</td>\n",
       "      <td>16</td>\n",
       "      <td>55</td>\n",
       "      <td>47</td>\n",
       "      <td>68</td>\n",
       "      <td>1.079365</td>\n",
       "      <td>1</td>\n",
       "    </tr>\n",
       "    <tr>\n",
       "      <th>1</th>\n",
       "      <td>2023-02-19</td>\n",
       "      <td>dc8c8e09414b4743a17336610cad5ff4</td>\n",
       "      <td>7fd31e1cc00011e9a8986c92bf5de038</td>\n",
       "      <td>11</td>\n",
       "      <td>端外付费</td>\n",
       "      <td>未付费</td>\n",
       "      <td>0</td>\n",
       "      <td>1</td>\n",
       "      <td>0</td>\n",
       "      <td>171</td>\n",
       "      <td>...</td>\n",
       "      <td>-0.142857</td>\n",
       "      <td>170</td>\n",
       "      <td>0.333333</td>\n",
       "      <td>0</td>\n",
       "      <td>0</td>\n",
       "      <td>66</td>\n",
       "      <td>58</td>\n",
       "      <td>79</td>\n",
       "      <td>1.067568</td>\n",
       "      <td>2</td>\n",
       "    </tr>\n",
       "    <tr>\n",
       "      <th>2</th>\n",
       "      <td>2023-02-19</td>\n",
       "      <td>1097af994e854272bedbc7c9203b16d9</td>\n",
       "      <td>others</td>\n",
       "      <td>70</td>\n",
       "      <td>连续付费年卡</td>\n",
       "      <td>未付费</td>\n",
       "      <td>0</td>\n",
       "      <td>1</td>\n",
       "      <td>0</td>\n",
       "      <td>1781</td>\n",
       "      <td>...</td>\n",
       "      <td>-0.142857</td>\n",
       "      <td>1780</td>\n",
       "      <td>2.300000</td>\n",
       "      <td>8</td>\n",
       "      <td>16</td>\n",
       "      <td>250</td>\n",
       "      <td>242</td>\n",
       "      <td>260</td>\n",
       "      <td>1.007752</td>\n",
       "      <td>3</td>\n",
       "    </tr>\n",
       "    <tr>\n",
       "      <th>3</th>\n",
       "      <td>2023-02-19</td>\n",
       "      <td>723f28cbb7f94113aca2d21de9a75bcd</td>\n",
       "      <td>others</td>\n",
       "      <td>278</td>\n",
       "      <td>付费年卡</td>\n",
       "      <td>未付费</td>\n",
       "      <td>0</td>\n",
       "      <td>1</td>\n",
       "      <td>0</td>\n",
       "      <td>1593</td>\n",
       "      <td>...</td>\n",
       "      <td>-0.142857</td>\n",
       "      <td>1592</td>\n",
       "      <td>9.233333</td>\n",
       "      <td>8</td>\n",
       "      <td>16</td>\n",
       "      <td>59</td>\n",
       "      <td>51</td>\n",
       "      <td>70</td>\n",
       "      <td>1.044776</td>\n",
       "      <td>4</td>\n",
       "    </tr>\n",
       "    <tr>\n",
       "      <th>4</th>\n",
       "      <td>2023-02-19</td>\n",
       "      <td>2d11778938f94b30a44a68f943af0f01</td>\n",
       "      <td>7fd31e1cc00011e9a8986c92bf5de038</td>\n",
       "      <td>10</td>\n",
       "      <td>付费季卡</td>\n",
       "      <td>未付费</td>\n",
       "      <td>0</td>\n",
       "      <td>1</td>\n",
       "      <td>0</td>\n",
       "      <td>1808</td>\n",
       "      <td>...</td>\n",
       "      <td>-0.142857</td>\n",
       "      <td>1807</td>\n",
       "      <td>0.300000</td>\n",
       "      <td>8</td>\n",
       "      <td>16</td>\n",
       "      <td>105</td>\n",
       "      <td>97</td>\n",
       "      <td>115</td>\n",
       "      <td>1.017699</td>\n",
       "      <td>5</td>\n",
       "    </tr>\n",
       "    <tr>\n",
       "      <th>...</th>\n",
       "      <td>...</td>\n",
       "      <td>...</td>\n",
       "      <td>...</td>\n",
       "      <td>...</td>\n",
       "      <td>...</td>\n",
       "      <td>...</td>\n",
       "      <td>...</td>\n",
       "      <td>...</td>\n",
       "      <td>...</td>\n",
       "      <td>...</td>\n",
       "      <td>...</td>\n",
       "      <td>...</td>\n",
       "      <td>...</td>\n",
       "      <td>...</td>\n",
       "      <td>...</td>\n",
       "      <td>...</td>\n",
       "      <td>...</td>\n",
       "      <td>...</td>\n",
       "      <td>...</td>\n",
       "      <td>...</td>\n",
       "      <td>...</td>\n",
       "    </tr>\n",
       "    <tr>\n",
       "      <th>104890</th>\n",
       "      <td>2023-03-03</td>\n",
       "      <td>d95e9d9f25904a11b6439a25ae97fc4e</td>\n",
       "      <td>drama_detail_page</td>\n",
       "      <td>40</td>\n",
       "      <td>付费季卡</td>\n",
       "      <td>未付费</td>\n",
       "      <td>0</td>\n",
       "      <td>1</td>\n",
       "      <td>0</td>\n",
       "      <td>363</td>\n",
       "      <td>...</td>\n",
       "      <td>-0.285714</td>\n",
       "      <td>361</td>\n",
       "      <td>1.266667</td>\n",
       "      <td>8</td>\n",
       "      <td>16</td>\n",
       "      <td>76</td>\n",
       "      <td>68</td>\n",
       "      <td>92</td>\n",
       "      <td>1.095238</td>\n",
       "      <td>995</td>\n",
       "    </tr>\n",
       "    <tr>\n",
       "      <th>104891</th>\n",
       "      <td>2023-03-03</td>\n",
       "      <td>814a3e63b9eb4581a46c92f6836ba3f4</td>\n",
       "      <td>home_page</td>\n",
       "      <td>0</td>\n",
       "      <td>付费月卡</td>\n",
       "      <td>未付费</td>\n",
       "      <td>0</td>\n",
       "      <td>1</td>\n",
       "      <td>1</td>\n",
       "      <td>1679</td>\n",
       "      <td>...</td>\n",
       "      <td>-0.285714</td>\n",
       "      <td>1677</td>\n",
       "      <td>0.000000</td>\n",
       "      <td>8</td>\n",
       "      <td>16</td>\n",
       "      <td>70</td>\n",
       "      <td>62</td>\n",
       "      <td>84</td>\n",
       "      <td>1.076923</td>\n",
       "      <td>996</td>\n",
       "    </tr>\n",
       "    <tr>\n",
       "      <th>104892</th>\n",
       "      <td>2023-03-03</td>\n",
       "      <td>89fa9ed190b84dc39355417c315129be</td>\n",
       "      <td>drama_detail_page</td>\n",
       "      <td>1</td>\n",
       "      <td>非付费vip</td>\n",
       "      <td>未付费</td>\n",
       "      <td>0</td>\n",
       "      <td>1</td>\n",
       "      <td>0</td>\n",
       "      <td>4</td>\n",
       "      <td>...</td>\n",
       "      <td>-0.142857</td>\n",
       "      <td>3</td>\n",
       "      <td>0.133333</td>\n",
       "      <td>4</td>\n",
       "      <td>12</td>\n",
       "      <td>4</td>\n",
       "      <td>12</td>\n",
       "      <td>6</td>\n",
       "      <td>1.500000</td>\n",
       "      <td>997</td>\n",
       "    </tr>\n",
       "    <tr>\n",
       "      <th>104893</th>\n",
       "      <td>2023-03-03</td>\n",
       "      <td>f5ae1f24c81f439c8e0b074de721ffc8</td>\n",
       "      <td>drama_detail_page</td>\n",
       "      <td>0</td>\n",
       "      <td>其他</td>\n",
       "      <td>其他</td>\n",
       "      <td>0</td>\n",
       "      <td>2</td>\n",
       "      <td>0</td>\n",
       "      <td>394</td>\n",
       "      <td>...</td>\n",
       "      <td>-0.857143</td>\n",
       "      <td>388</td>\n",
       "      <td>0.000000</td>\n",
       "      <td>8</td>\n",
       "      <td>16</td>\n",
       "      <td>84</td>\n",
       "      <td>76</td>\n",
       "      <td>103</td>\n",
       "      <td>1.119565</td>\n",
       "      <td>998</td>\n",
       "    </tr>\n",
       "    <tr>\n",
       "      <th>104894</th>\n",
       "      <td>2023-03-03</td>\n",
       "      <td>aaeafb449f7d45e2a00f02c37937a5cc</td>\n",
       "      <td>drama_detail_page</td>\n",
       "      <td>58</td>\n",
       "      <td>付费季卡</td>\n",
       "      <td>未付费</td>\n",
       "      <td>0</td>\n",
       "      <td>1</td>\n",
       "      <td>0</td>\n",
       "      <td>1809</td>\n",
       "      <td>...</td>\n",
       "      <td>-0.571429</td>\n",
       "      <td>1805</td>\n",
       "      <td>1.800000</td>\n",
       "      <td>8</td>\n",
       "      <td>16</td>\n",
       "      <td>214</td>\n",
       "      <td>206</td>\n",
       "      <td>226</td>\n",
       "      <td>1.018018</td>\n",
       "      <td>999</td>\n",
       "    </tr>\n",
       "  </tbody>\n",
       "</table>\n",
       "<p>104895 rows × 217 columns</p>\n",
       "</div>"
      ],
      "text/plain": [
       "                dt                            userid  \\\n",
       "0       2023-02-19  61fed51ae99e49909b225e66f29bbaa2   \n",
       "1       2023-02-19  dc8c8e09414b4743a17336610cad5ff4   \n",
       "2       2023-02-19  1097af994e854272bedbc7c9203b16d9   \n",
       "3       2023-02-19  723f28cbb7f94113aca2d21de9a75bcd   \n",
       "4       2023-02-19  2d11778938f94b30a44a68f943af0f01   \n",
       "...            ...                               ...   \n",
       "104890  2023-03-03  d95e9d9f25904a11b6439a25ae97fc4e   \n",
       "104891  2023-03-03  814a3e63b9eb4581a46c92f6836ba3f4   \n",
       "104892  2023-03-03  89fa9ed190b84dc39355417c315129be   \n",
       "104893  2023-03-03  f5ae1f24c81f439c8e0b074de721ffc8   \n",
       "104894  2023-03-03  aaeafb449f7d45e2a00f02c37937a5cc   \n",
       "\n",
       "                           last_category  vip_end_days vip_effective_type  \\\n",
       "0                                 others           243               付费年卡   \n",
       "1       7fd31e1cc00011e9a8986c92bf5de038            11               端外付费   \n",
       "2                                 others            70             连续付费年卡   \n",
       "3                                 others           278               付费年卡   \n",
       "4       7fd31e1cc00011e9a8986c92bf5de038            10               付费季卡   \n",
       "...                                  ...           ...                ...   \n",
       "104890                 drama_detail_page            40               付费季卡   \n",
       "104891                         home_page             0               付费月卡   \n",
       "104892                 drama_detail_page             1             非付费vip   \n",
       "104893                 drama_detail_page             0                 其他   \n",
       "104894                 drama_detail_page            58               付费季卡   \n",
       "\n",
       "       vip_payment_status  is_bought_today  unwatching_days  watch_last_nums  \\\n",
       "0                     未付费                0                1                0   \n",
       "1                     未付费                0                1                0   \n",
       "2                     未付费                0                1                0   \n",
       "3                     未付费                0                1                0   \n",
       "4                     未付费                0                1                0   \n",
       "...                   ...              ...              ...              ...   \n",
       "104890                未付费                0                1                0   \n",
       "104891                未付费                0                1                1   \n",
       "104892                未付费                0                1                0   \n",
       "104893                 其他                0                2                0   \n",
       "104894                未付费                0                1                0   \n",
       "\n",
       "        daydiff  ...  next_login_weekdiff  next_daydiff  \\\n",
       "0           461  ...            -0.142857           460   \n",
       "1           171  ...            -0.142857           170   \n",
       "2          1781  ...            -0.142857          1780   \n",
       "3          1593  ...            -0.142857          1592   \n",
       "4          1808  ...            -0.142857          1807   \n",
       "...         ...  ...                  ...           ...   \n",
       "104890      363  ...            -0.285714           361   \n",
       "104891     1679  ...            -0.285714          1677   \n",
       "104892        4  ...            -0.142857             3   \n",
       "104893      394  ...            -0.857143           388   \n",
       "104894     1809  ...            -0.571429          1805   \n",
       "\n",
       "        next_login_vip_valid_month  lost_7_remain_ds  lost_15_remain_ds  \\\n",
       "0                         8.066667                 8                 16   \n",
       "1                         0.333333                 0                  0   \n",
       "2                         2.300000                 8                 16   \n",
       "3                         9.233333                 8                 16   \n",
       "4                         0.300000                 8                 16   \n",
       "...                            ...               ...                ...   \n",
       "104890                    1.266667                 8                 16   \n",
       "104891                    0.000000                 8                 16   \n",
       "104892                    0.133333                 4                 12   \n",
       "104893                    0.000000                 8                 16   \n",
       "104894                    1.800000                 8                 16   \n",
       "\n",
       "        lost_7_remain_days_td  lost_15_remain_days_td  \\\n",
       "0                          55                      47   \n",
       "1                          66                      58   \n",
       "2                         250                     242   \n",
       "3                          59                      51   \n",
       "4                         105                      97   \n",
       "...                       ...                     ...   \n",
       "104890                     76                      68   \n",
       "104891                     70                      62   \n",
       "104892                      4                      12   \n",
       "104893                     84                      76   \n",
       "104894                    214                     206   \n",
       "\n",
       "        next_cumulative_login_ds  next_login_7ds_freq  ranks  \n",
       "0                             68             1.079365      1  \n",
       "1                             79             1.067568      2  \n",
       "2                            260             1.007752      3  \n",
       "3                             70             1.044776      4  \n",
       "4                            115             1.017699      5  \n",
       "...                          ...                  ...    ...  \n",
       "104890                        92             1.095238    995  \n",
       "104891                        84             1.076923    996  \n",
       "104892                         6             1.500000    997  \n",
       "104893                       103             1.119565    998  \n",
       "104894                       226             1.018018    999  \n",
       "\n",
       "[104895 rows x 217 columns]"
      ]
     },
     "execution_count": 20,
     "metadata": {},
     "output_type": "execute_result"
    }
   ],
   "source": [
    "pd.read_csv('ads_mdap_user_lsmd_gbm_model_train_sample_with_lag_df_new_0713.tsv', sep='\\t')"
   ]
  },
  {
   "cell_type": "code",
   "execution_count": null,
   "id": "1b496c83-2aa4-45f5-a9ce-a5a47c95f3dc",
   "metadata": {},
   "outputs": [],
   "source": []
  },
  {
   "cell_type": "code",
   "execution_count": null,
   "id": "cc6f5e4b-3654-4c14-8063-a25188c99251",
   "metadata": {},
   "outputs": [],
   "source": []
  },
  {
   "cell_type": "code",
   "execution_count": null,
   "id": "25a96293-5362-474b-921c-427b2b565194",
   "metadata": {},
   "outputs": [],
   "source": []
  },
  {
   "cell_type": "code",
   "execution_count": null,
   "id": "206854c1-18ad-486d-a08d-faa7ba82339e",
   "metadata": {},
   "outputs": [],
   "source": []
  },
  {
   "cell_type": "code",
   "execution_count": null,
   "id": "ad7a9a2e-9f54-49e1-9e70-6ec8c109beb3",
   "metadata": {},
   "outputs": [],
   "source": []
  },
  {
   "cell_type": "code",
   "execution_count": null,
   "id": "c1a1b9f7-b91e-4560-8833-fe8054f02b55",
   "metadata": {},
   "outputs": [],
   "source": []
  },
  {
   "cell_type": "code",
   "execution_count": null,
   "id": "9b74c81c-3af6-440e-aa41-4fa6dd1eec54",
   "metadata": {},
   "outputs": [],
   "source": []
  },
  {
   "cell_type": "code",
   "execution_count": null,
   "id": "e688ead3-2d05-4277-89f4-dd3cfb1f31b3",
   "metadata": {},
   "outputs": [],
   "source": []
  },
  {
   "cell_type": "code",
   "execution_count": null,
   "id": "038681ed-e160-4569-8f15-dbf665f5d776",
   "metadata": {},
   "outputs": [],
   "source": []
  }
 ],
 "metadata": {
  "kernelspec": {
   "display_name": "Python 3 (ipykernel)",
   "language": "python",
   "name": "python3"
  },
  "language_info": {
   "codemirror_mode": {
    "name": "ipython",
    "version": 3
   },
   "file_extension": ".py",
   "mimetype": "text/x-python",
   "name": "python",
   "nbconvert_exporter": "python",
   "pygments_lexer": "ipython3",
   "version": "3.11.4"
  }
 },
 "nbformat": 4,
 "nbformat_minor": 5
}
