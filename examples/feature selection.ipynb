{
 "cells": [
  {
   "cell_type": "code",
   "execution_count": 1,
   "metadata": {
    "tags": []
   },
   "outputs": [],
   "source": [
    "import sys\n",
    "sys.path.append('..')"
   ]
  },
  {
   "cell_type": "code",
   "execution_count": 2,
   "metadata": {
    "tags": []
   },
   "outputs": [],
   "source": [
    "from spinesUtils import *\n",
    "import pandas as pd"
   ]
  },
  {
   "cell_type": "code",
   "execution_count": 3,
   "metadata": {
    "tags": []
   },
   "outputs": [
    {
     "name": "stdout",
     "output_type": "stream",
     "text": [
      "(8000, 41) (2000, 41)\n"
     ]
    }
   ],
   "source": [
    "from sklearn.model_selection import cross_val_score\n",
    "from sklearn.datasets import make_classification\n",
    "from sklearn.ensemble import RandomForestClassifier\n",
    "from sklearn.ensemble import ExtraTreesClassifier\n",
    "from sklearn.tree import DecisionTreeClassifier\n",
    "\n",
    "X, y = make_classification(n_samples=10000, n_features=40, random_state=0)\n",
    "\n",
    "df = pd.DataFrame(X, columns=[str(i) for i in range(X.shape[1])])\n",
    "\n",
    "x_cols = df.columns.tolist()\n",
    "df['y'] = y\n",
    "\n",
    "train, test = train_test_split_bigdata_df(df, x_cols=x_cols, y_col='y', return_valid=False)\n",
    "print(train.shape, test.shape)"
   ]
  },
  {
   "cell_type": "code",
   "execution_count": 4,
   "metadata": {
    "tags": []
   },
   "outputs": [],
   "source": [
    "from lightgbm import LGBMClassifier\n",
    "\n",
    "estimator = LGBMClassifier(random_state=0)\n",
    "fe = TreeSequentialFeatureSelector(estimator, metrics_name='f1',\n",
    "    forward=True,\n",
    "    floating=True,\n",
    "    log_file_path='feature_selection.log', verbose=True)"
   ]
  },
  {
   "cell_type": "code",
   "execution_count": 5,
   "metadata": {
    "scrolled": true,
    "tags": []
   },
   "outputs": [
    {
     "name": "stderr",
     "output_type": "stream",
     "text": [
      "17:12:05 2023-09-20 - metrics: f1\n",
      "17:12:05 2023-09-20 - excluded columns using the variation ratio: []\n",
      "17:12:05 2023-09-20 - using zero variance: []\n",
      "17:12:05 2023-09-20 - The initial full model was successfully obtained.\n",
      "LightGBM binary classifier with TreeExplainer shap values output has changed to a list of ndarray\n",
      "17:12:07 2023-09-20 - [1/39]- feas_num 2 - # best loop,  f1 score is: 0.923984, current part of dataset best score is: 0.923984\n",
      "17:12:07 2023-09-20 - [2/39]- feas_num 3 - patience: 1,  f1 score is: 0.920522, current part of dataset best score is: 0.923984\n",
      "17:12:07 2023-09-20 - [3/39]- feas_num 4 - patience: 2,  f1 score is: 0.919976, current part of dataset best score is: 0.923984\n",
      "17:12:07 2023-09-20 - [4/39]- feas_num 5 - patience: 3,  f1 score is: 0.918757, current part of dataset best score is: 0.923984\n",
      "17:12:07 2023-09-20 - [5/39]- feas_num 6 - patience: 4,  f1 score is: 0.91866, current part of dataset best score is: 0.923984\n",
      "17:12:07 2023-09-20 - [6/39]- feas_num 7 - patience: 5,  f1 score is: 0.921335, current part of dataset best score is: 0.923984\n",
      "17:12:08 2023-09-20 - [7/39]- feas_num 8 - patience: 6,  f1 score is: 0.917167, current part of dataset best score is: 0.923984\n",
      "17:12:08 2023-09-20 - [8/39]- feas_num 9 - patience: 7,  f1 score is: 0.919016, current part of dataset best score is: 0.923984\n",
      "17:12:08 2023-09-20 - [9/39]- feas_num 10 - patience: 8,  f1 score is: 0.910295, current part of dataset best score is: 0.923984\n",
      "17:12:08 2023-09-20 - [10/39]- feas_num 11 - patience: 9,  f1 score is: 0.918306, current part of dataset best score is: 0.923984\n",
      "17:12:08 2023-09-20 - [11/39]- feas_num 12 - patience: 10,  f1 score is: 0.918404, current part of dataset best score is: 0.923984\n",
      "17:12:09 2023-09-20 - [float 11-6/10] - feas_num 3] # best loop,f1 score is: 0.92562\n",
      "17:13:19 2023-09-20 - [float 11-120/252] - feas_num 8] # best loop,f1 score is: 0.930095\n",
      "17:14:55 2023-09-20 - [12/39]- feas_num 9 - patience: 1,  f1 score is: 0.92427, current part of dataset best score is: 0.930095\n",
      "17:14:55 2023-09-20 - [13/39]- feas_num 10 - patience: 2,  f1 score is: 0.922615, current part of dataset best score is: 0.930095\n",
      "17:14:55 2023-09-20 - [14/39]- feas_num 11 - patience: 3,  f1 score is: 0.923353, current part of dataset best score is: 0.930095\n",
      "17:14:55 2023-09-20 - [15/39]- feas_num 12 - patience: 4,  f1 score is: 0.918854, current part of dataset best score is: 0.930095\n",
      "17:14:55 2023-09-20 - [16/39]- feas_num 13 - patience: 5,  f1 score is: 0.918209, current part of dataset best score is: 0.930095\n",
      "17:14:56 2023-09-20 - [17/39]- feas_num 14 - patience: 6,  f1 score is: 0.917409, current part of dataset best score is: 0.930095\n",
      "17:14:56 2023-09-20 - [18/39]- feas_num 15 - patience: 7,  f1 score is: 0.917759, current part of dataset best score is: 0.930095\n",
      "17:14:56 2023-09-20 - [19/39]- feas_num 16 - patience: 8,  f1 score is: 0.917311, current part of dataset best score is: 0.930095\n",
      "17:14:57 2023-09-20 - [20/39]- feas_num 17 - patience: 9,  f1 score is: 0.915677, current part of dataset best score is: 0.930095\n",
      "17:14:57 2023-09-20 - [21/39]- feas_num 18 - patience: 10,  f1 score is: 0.917703, current part of dataset best score is: 0.930095\n",
      "17:15:18 2023-09-20 - [float 21-84/120] - feas_num 11] # best loop,f1 score is: 0.931751\n",
      "17:18:26 2023-09-20 - [22/39]- feas_num 12 - patience: 1,  f1 score is: 0.923445, current part of dataset best score is: 0.931751\n",
      "17:18:26 2023-09-20 - [23/39]- feas_num 13 - patience: 2,  f1 score is: 0.925462, current part of dataset best score is: 0.931751\n",
      "17:18:27 2023-09-20 - [24/39]- feas_num 14 - patience: 3,  f1 score is: 0.925373, current part of dataset best score is: 0.931751\n",
      "17:18:27 2023-09-20 - [25/39]- feas_num 15 - patience: 4,  f1 score is: 0.917955, current part of dataset best score is: 0.931751\n",
      "17:18:27 2023-09-20 - [26/39]- feas_num 16 - patience: 5,  f1 score is: 0.927467, current part of dataset best score is: 0.931751\n",
      "17:18:27 2023-09-20 - [27/39]- feas_num 17 - patience: 6,  f1 score is: 0.921522, current part of dataset best score is: 0.931751\n",
      "17:18:27 2023-09-20 - [28/39]- feas_num 18 - patience: 7,  f1 score is: 0.919786, current part of dataset best score is: 0.931751\n",
      "17:18:28 2023-09-20 - [29/39]- feas_num 19 - patience: 8,  f1 score is: 0.921241, current part of dataset best score is: 0.931751\n",
      "17:18:28 2023-09-20 - [30/39]- feas_num 20 - patience: 9,  f1 score is: 0.922163, current part of dataset best score is: 0.931751\n",
      "17:18:28 2023-09-20 - [31/39]- feas_num 21 - patience: 10,  f1 score is: 0.9239, current part of dataset best score is: 0.931751\n",
      "17:20:54 2023-09-20 - [32/39]- feas_num 12 - patience: 1,  f1 score is: 0.923442, current part of dataset best score is: 0.931751\n",
      "17:20:55 2023-09-20 - [33/39]- feas_num 13 - patience: 2,  f1 score is: 0.921986, current part of dataset best score is: 0.931751\n",
      "17:20:55 2023-09-20 - [34/39]- feas_num 14 - patience: 3,  f1 score is: 0.926627, current part of dataset best score is: 0.931751\n",
      "17:20:55 2023-09-20 - [35/39]- feas_num 15 - patience: 4,  f1 score is: 0.922527, current part of dataset best score is: 0.931751\n",
      "17:20:55 2023-09-20 - [36/39]- feas_num 16 - patience: 5,  f1 score is: 0.920958, current part of dataset best score is: 0.931751\n",
      "17:20:55 2023-09-20 - [37/39]- feas_num 17 - patience: 6,  f1 score is: 0.926103, current part of dataset best score is: 0.931751\n",
      "17:20:55 2023-09-20 - [38/39]- feas_num 18 - patience: 7,  f1 score is: 0.913742, current part of dataset best score is: 0.931751\n",
      "17:20:56 2023-09-20 - [39/39]- feas_num 19 - patience: 8,  f1 score is: 0.920333, current part of dataset best score is: 0.931751\n",
      "17:20:56 2023-09-20 - The initial full model was successfully obtained.\n",
      "LightGBM binary classifier with TreeExplainer shap values output has changed to a list of ndarray\n",
      "17:20:56 2023-09-20 - [1/39]- feas_num 2 - # best loop,  f1 score is: 0.917189, current part of dataset best score is: 0.917189\n",
      "17:20:56 2023-09-20 - [2/39]- feas_num 3 - patience: 1,  f1 score is: 0.906683, current part of dataset best score is: 0.917189\n",
      "17:20:56 2023-09-20 - [3/39]- feas_num 4 - patience: 2,  f1 score is: 0.910006, current part of dataset best score is: 0.917189\n",
      "17:20:57 2023-09-20 - [4/39]- feas_num 5 - patience: 3,  f1 score is: 0.909665, current part of dataset best score is: 0.917189\n",
      "17:20:57 2023-09-20 - [5/39]- feas_num 6 - patience: 4,  f1 score is: 0.901837, current part of dataset best score is: 0.917189\n",
      "17:20:57 2023-09-20 - [6/39]- feas_num 7 - patience: 5,  f1 score is: 0.906785, current part of dataset best score is: 0.917189\n",
      "17:20:57 2023-09-20 - [7/39]- feas_num 8 - patience: 6,  f1 score is: 0.902655, current part of dataset best score is: 0.917189\n",
      "17:20:57 2023-09-20 - [8/39]- feas_num 9 - patience: 7,  f1 score is: 0.910804, current part of dataset best score is: 0.917189\n",
      "17:20:57 2023-09-20 - [9/39]- feas_num 10 - patience: 8,  f1 score is: 0.907372, current part of dataset best score is: 0.917189\n",
      "17:20:58 2023-09-20 - [10/39]- feas_num 11 - patience: 9,  f1 score is: 0.909893, current part of dataset best score is: 0.917189\n",
      "17:20:58 2023-09-20 - [11/39]- feas_num 12 - patience: 10,  f1 score is: 0.912281, current part of dataset best score is: 0.917189\n",
      "17:20:58 2023-09-20 - [float 11-7/10] - feas_num 3] # best loop,f1 score is: 0.918239\n",
      "17:21:39 2023-09-20 - [float 11-9/252] - feas_num 8] # best loop,f1 score is: 0.919497\n",
      "17:23:00 2023-09-20 - [12/39]- feas_num 9 - patience: 1,  f1 score is: 0.912879, current part of dataset best score is: 0.919497\n",
      "17:23:00 2023-09-20 - [13/39]- feas_num 10 - patience: 2,  f1 score is: 0.911488, current part of dataset best score is: 0.919497\n",
      "17:23:01 2023-09-20 - [14/39]- feas_num 11 - patience: 3,  f1 score is: 0.912634, current part of dataset best score is: 0.919497\n",
      "17:23:01 2023-09-20 - [15/39]- feas_num 12 - patience: 4,  f1 score is: 0.912634, current part of dataset best score is: 0.919497\n",
      "17:23:01 2023-09-20 - [16/39]- feas_num 13 - patience: 5,  f1 score is: 0.90623, current part of dataset best score is: 0.919497\n",
      "17:23:01 2023-09-20 - [17/39]- feas_num 14 - patience: 6,  f1 score is: 0.909893, current part of dataset best score is: 0.919497\n",
      "17:23:02 2023-09-20 - [18/39]- feas_num 15 - patience: 7,  f1 score is: 0.907489, current part of dataset best score is: 0.919497\n",
      "17:23:02 2023-09-20 - [19/39]- feas_num 16 - patience: 8,  f1 score is: 0.911041, current part of dataset best score is: 0.919497\n",
      "17:23:02 2023-09-20 - [20/39]- feas_num 17 - patience: 9,  f1 score is: 0.908176, current part of dataset best score is: 0.919497\n",
      "17:23:02 2023-09-20 - [21/39]- feas_num 18 - patience: 10,  f1 score is: 0.90806, current part of dataset best score is: 0.919497\n",
      "17:23:36 2023-09-20 - [float 21-23/210] - feas_num 12] # best loop,f1 score is: 0.920555\n",
      "17:26:21 2023-09-20 - [22/39]- feas_num 13 - patience: 1,  f1 score is: 0.912192, current part of dataset best score is: 0.920555\n",
      "17:26:21 2023-09-20 - [23/39]- feas_num 14 - patience: 2,  f1 score is: 0.913999, current part of dataset best score is: 0.920555\n",
      "17:26:22 2023-09-20 - [24/39]- feas_num 15 - patience: 3,  f1 score is: 0.916194, current part of dataset best score is: 0.920555\n",
      "17:26:22 2023-09-20 - [25/39]- feas_num 16 - patience: 4,  f1 score is: 0.9163, current part of dataset best score is: 0.920555\n",
      "17:26:22 2023-09-20 - [26/39]- feas_num 17 - patience: 5,  f1 score is: 0.911728, current part of dataset best score is: 0.920555\n",
      "17:26:22 2023-09-20 - [27/39]- feas_num 18 - patience: 6,  f1 score is: 0.913098, current part of dataset best score is: 0.920555\n",
      "17:26:23 2023-09-20 - [28/39]- feas_num 19 - patience: 7,  f1 score is: 0.910816, current part of dataset best score is: 0.920555\n",
      "17:26:23 2023-09-20 - [29/39]- feas_num 20 - patience: 8,  f1 score is: 0.908286, current part of dataset best score is: 0.920555\n",
      "17:26:23 2023-09-20 - [30/39]- feas_num 21 - patience: 9,  f1 score is: 0.908633, current part of dataset best score is: 0.920555\n",
      "17:26:23 2023-09-20 - [31/39]- feas_num 22 - patience: 10,  f1 score is: 0.906566, current part of dataset best score is: 0.920555\n",
      "17:26:29 2023-09-20 - [float 31-20/45] - feas_num 14] # best loop,f1 score is: 0.921136\n",
      "17:30:00 2023-09-20 - [32/39]- feas_num 15 - patience: 1,  f1 score is: 0.918817, current part of dataset best score is: 0.921136\n",
      "17:30:01 2023-09-20 - [33/39]- feas_num 16 - patience: 2,  f1 score is: 0.913098, current part of dataset best score is: 0.921136\n",
      "17:30:01 2023-09-20 - [34/39]- feas_num 17 - patience: 3,  f1 score is: 0.912171, current part of dataset best score is: 0.921136\n",
      "17:30:01 2023-09-20 - [35/39]- feas_num 18 - patience: 4,  f1 score is: 0.918033, current part of dataset best score is: 0.921136\n",
      "17:30:01 2023-09-20 - [36/39]- feas_num 19 - patience: 5,  f1 score is: 0.9163, current part of dataset best score is: 0.921136\n",
      "17:30:01 2023-09-20 - [37/39]- feas_num 20 - patience: 6,  f1 score is: 0.914894, current part of dataset best score is: 0.921136\n",
      "17:30:01 2023-09-20 - [38/39]- feas_num 21 - patience: 7,  f1 score is: 0.915617, current part of dataset best score is: 0.921136\n",
      "17:30:02 2023-09-20 - [39/39]- feas_num 22 - patience: 8,  f1 score is: 0.916981, current part of dataset best score is: 0.921136\n",
      "17:30:02 2023-09-20 - The initial full model was successfully obtained.\n",
      "LightGBM binary classifier with TreeExplainer shap values output has changed to a list of ndarray\n",
      "17:30:02 2023-09-20 - [1/39]- feas_num 2 - # best loop,  f1 score is: 0.918475, current part of dataset best score is: 0.918475\n",
      "17:30:03 2023-09-20 - [2/39]- feas_num 3 - patience: 1,  f1 score is: 0.917399, current part of dataset best score is: 0.918475\n",
      "17:30:03 2023-09-20 - [3/39]- feas_num 4 - patience: 2,  f1 score is: 0.917744, current part of dataset best score is: 0.918475\n",
      "17:30:04 2023-09-20 - [4/39]- feas_num 5 - # best loop,  f1 score is: 0.920635, current part of dataset best score is: 0.920635\n",
      "17:30:04 2023-09-20 - [5/39]- feas_num 3 - # best loop,  f1 score is: 0.921903, current part of dataset best score is: 0.921903\n",
      "17:30:04 2023-09-20 - [6/39]- feas_num 4 - patience: 1,  f1 score is: 0.915493, current part of dataset best score is: 0.921903\n",
      "17:30:04 2023-09-20 - [7/39]- feas_num 5 - patience: 2,  f1 score is: 0.911437, current part of dataset best score is: 0.921903\n",
      "17:30:05 2023-09-20 - [8/39]- feas_num 6 - patience: 3,  f1 score is: 0.919906, current part of dataset best score is: 0.921903\n",
      "17:30:05 2023-09-20 - [9/39]- feas_num 7 - patience: 4,  f1 score is: 0.91462, current part of dataset best score is: 0.921903\n",
      "17:30:05 2023-09-20 - [10/39]- feas_num 8 - patience: 5,  f1 score is: 0.91452, current part of dataset best score is: 0.921903\n",
      "17:30:05 2023-09-20 - [11/39]- feas_num 9 - patience: 6,  f1 score is: 0.913783, current part of dataset best score is: 0.921903\n",
      "17:30:05 2023-09-20 - [12/39]- feas_num 10 - patience: 7,  f1 score is: 0.913043, current part of dataset best score is: 0.921903\n",
      "17:30:05 2023-09-20 - [13/39]- feas_num 11 - patience: 8,  f1 score is: 0.913783, current part of dataset best score is: 0.921903\n",
      "17:30:06 2023-09-20 - [14/39]- feas_num 12 - patience: 9,  f1 score is: 0.913479, current part of dataset best score is: 0.921903\n",
      "17:30:06 2023-09-20 - [15/39]- feas_num 13 - patience: 10,  f1 score is: 0.912736, current part of dataset best score is: 0.921903\n",
      "17:32:43 2023-09-20 - [16/39]- feas_num 4 - patience: 1,  f1 score is: 0.913043, current part of dataset best score is: 0.921903\n",
      "17:32:44 2023-09-20 - [17/39]- feas_num 5 - patience: 2,  f1 score is: 0.913682, current part of dataset best score is: 0.921903\n",
      "17:32:44 2023-09-20 - [18/39]- feas_num 6 - patience: 3,  f1 score is: 0.916667, current part of dataset best score is: 0.921903\n",
      "17:32:44 2023-09-20 - [19/39]- feas_num 7 - patience: 4,  f1 score is: 0.917937, current part of dataset best score is: 0.921903\n",
      "17:32:44 2023-09-20 - [20/39]- feas_num 8 - patience: 5,  f1 score is: 0.913247, current part of dataset best score is: 0.921903\n",
      "17:32:44 2023-09-20 - [21/39]- feas_num 9 - patience: 6,  f1 score is: 0.917108, current part of dataset best score is: 0.921903\n",
      "17:32:44 2023-09-20 - [22/39]- feas_num 10 - patience: 7,  f1 score is: 0.912633, current part of dataset best score is: 0.921903\n",
      "17:32:44 2023-09-20 - [23/39]- feas_num 11 - patience: 8,  f1 score is: 0.913609, current part of dataset best score is: 0.921903\n",
      "17:32:45 2023-09-20 - [24/39]- feas_num 12 - patience: 9,  f1 score is: 0.910377, current part of dataset best score is: 0.921903\n",
      "17:32:45 2023-09-20 - [25/39]- feas_num 13 - patience: 10,  f1 score is: 0.913274, current part of dataset best score is: 0.921903\n",
      "17:32:54 2023-09-20 - [float 25-39/45] - feas_num 5] # best loop,f1 score is: 0.922629\n",
      "17:33:24 2023-09-20 - [float 25-5/210] - feas_num 9] # best loop,f1 score is: 0.922807\n",
      "17:36:29 2023-09-20 - [26/39]- feas_num 10 - patience: 1,  f1 score is: 0.916764, current part of dataset best score is: 0.922807\n",
      "17:36:29 2023-09-20 - [27/39]- feas_num 11 - patience: 2,  f1 score is: 0.912404, current part of dataset best score is: 0.922807\n",
      "17:36:30 2023-09-20 - [28/39]- feas_num 12 - patience: 3,  f1 score is: 0.919393, current part of dataset best score is: 0.922807\n",
      "17:36:30 2023-09-20 - [29/39]- feas_num 13 - patience: 4,  f1 score is: 0.914856, current part of dataset best score is: 0.922807\n",
      "17:36:30 2023-09-20 - [30/39]- feas_num 14 - patience: 5,  f1 score is: 0.914319, current part of dataset best score is: 0.922807\n",
      "17:36:30 2023-09-20 - [31/39]- feas_num 15 - patience: 6,  f1 score is: 0.916471, current part of dataset best score is: 0.922807\n",
      "17:36:30 2023-09-20 - [32/39]- feas_num 16 - patience: 7,  f1 score is: 0.914856, current part of dataset best score is: 0.922807\n",
      "17:36:31 2023-09-20 - [33/39]- feas_num 17 - patience: 8,  f1 score is: 0.917937, current part of dataset best score is: 0.922807\n",
      "17:36:31 2023-09-20 - [34/39]- feas_num 18 - patience: 9,  f1 score is: 0.916227, current part of dataset best score is: 0.922807\n",
      "17:36:31 2023-09-20 - [35/39]- feas_num 19 - patience: 10,  f1 score is: 0.912815, current part of dataset best score is: 0.922807\n",
      "17:37:24 2023-09-20 - [float 35-123/210] - feas_num 13] # best loop,f1 score is: 0.923526\n",
      "17:39:53 2023-09-20 - [36/39]- feas_num 14 - patience: 1,  f1 score is: 0.916521, current part of dataset best score is: 0.923526\n",
      "17:39:53 2023-09-20 - [37/39]- feas_num 15 - patience: 2,  f1 score is: 0.90973, current part of dataset best score is: 0.923526\n",
      "17:39:53 2023-09-20 - [38/39]- feas_num 16 - patience: 3,  f1 score is: 0.914819, current part of dataset best score is: 0.923526\n",
      "17:39:53 2023-09-20 - [39/39]- feas_num 17 - patience: 4,  f1 score is: 0.913551, current part of dataset best score is: 0.923526\n",
      "17:39:54 2023-09-20 - The initial full model was successfully obtained.\n",
      "LightGBM binary classifier with TreeExplainer shap values output has changed to a list of ndarray\n",
      "17:39:54 2023-09-20 - [1/39]- feas_num 2 - # best loop,  f1 score is: 0.903927, current part of dataset best score is: 0.903927\n",
      "17:39:54 2023-09-20 - [2/39]- feas_num 3 - # best loop,  f1 score is: 0.908108, current part of dataset best score is: 0.908108\n",
      "17:39:54 2023-09-20 - [3/39]- feas_num 4 - # best loop,  f1 score is: 0.911285, current part of dataset best score is: 0.911285\n",
      "17:39:55 2023-09-20 - [4/39]- feas_num 5 - patience: 1,  f1 score is: 0.908982, current part of dataset best score is: 0.911285\n",
      "17:39:55 2023-09-20 - [5/39]- feas_num 6 - patience: 2,  f1 score is: 0.907229, current part of dataset best score is: 0.911285\n",
      "17:39:55 2023-09-20 - [6/39]- feas_num 7 - patience: 3,  f1 score is: 0.907117, current part of dataset best score is: 0.911285\n",
      "17:39:55 2023-09-20 - [7/39]- feas_num 8 - patience: 4,  f1 score is: 0.906475, current part of dataset best score is: 0.911285\n",
      "17:39:55 2023-09-20 - [8/39]- feas_num 9 - patience: 5,  f1 score is: 0.907117, current part of dataset best score is: 0.911285\n",
      "17:39:56 2023-09-20 - [9/39]- feas_num 10 - patience: 6,  f1 score is: 0.909309, current part of dataset best score is: 0.911285\n",
      "17:39:56 2023-09-20 - [10/39]- feas_num 11 - patience: 7,  f1 score is: 0.906907, current part of dataset best score is: 0.911285\n",
      "17:39:56 2023-09-20 - [11/39]- feas_num 12 - patience: 8,  f1 score is: 0.903498, current part of dataset best score is: 0.911285\n",
      "17:39:56 2023-09-20 - [12/39]- feas_num 13 - patience: 9,  f1 score is: 0.907229, current part of dataset best score is: 0.911285\n",
      "17:39:57 2023-09-20 - [13/39]- feas_num 14 - patience: 10,  f1 score is: 0.907005, current part of dataset best score is: 0.911285\n",
      "17:40:00 2023-09-20 - [float 13-6/45] - feas_num 6] # best loop,f1 score is: 0.911836\n",
      "17:40:00 2023-09-20 - [float 13-7/45] - feas_num 7] # best loop,f1 score is: 0.915111\n",
      "17:40:00 2023-09-20 - [float 13-8/45] - feas_num 8] # best loop,f1 score is: 0.915518\n",
      "17:44:45 2023-09-20 - [14/39]- feas_num 9 - patience: 1,  f1 score is: 0.90713, current part of dataset best score is: 0.915518\n",
      "17:44:45 2023-09-20 - [15/39]- feas_num 10 - patience: 2,  f1 score is: 0.90525, current part of dataset best score is: 0.915518\n",
      "17:44:45 2023-09-20 - [16/39]- feas_num 11 - patience: 3,  f1 score is: 0.910295, current part of dataset best score is: 0.915518\n",
      "17:44:46 2023-09-20 - [17/39]- feas_num 12 - patience: 4,  f1 score is: 0.90854, current part of dataset best score is: 0.915518\n",
      "17:44:46 2023-09-20 - [18/39]- feas_num 13 - patience: 5,  f1 score is: 0.909091, current part of dataset best score is: 0.915518\n",
      "17:44:47 2023-09-20 - [19/39]- feas_num 14 - patience: 6,  f1 score is: 0.903187, current part of dataset best score is: 0.915518\n",
      "17:44:47 2023-09-20 - [20/39]- feas_num 15 - patience: 7,  f1 score is: 0.912492, current part of dataset best score is: 0.915518\n",
      "17:44:48 2023-09-20 - [21/39]- feas_num 16 - patience: 8,  f1 score is: 0.908761, current part of dataset best score is: 0.915518\n",
      "17:44:48 2023-09-20 - [22/39]- feas_num 17 - patience: 9,  f1 score is: 0.914458, current part of dataset best score is: 0.915518\n",
      "17:44:49 2023-09-20 - [23/39]- feas_num 18 - patience: 10,  f1 score is: 0.913565, current part of dataset best score is: 0.915518\n",
      "17:44:56 2023-09-20 - [float 23-3/45] - feas_num 10] # best loop,f1 score is: 0.916416\n",
      "17:45:12 2023-09-20 - [float 23-34/45] - feas_num 12] # best loop,f1 score is: 0.917619\n",
      "17:45:15 2023-09-20 - [float 23-38/45] - feas_num 13] # best loop,f1 score is: 0.918171\n",
      "17:45:20 2023-09-20 - [float 23-5/120] - feas_num 15] # best loop,f1 score is: 0.918821\n",
      "17:48:49 2023-09-20 - [24/39]- feas_num 16 - patience: 1,  f1 score is: 0.910628, current part of dataset best score is: 0.918821\n",
      "17:48:49 2023-09-20 - [25/39]- feas_num 17 - patience: 2,  f1 score is: 0.907341, current part of dataset best score is: 0.918821\n",
      "17:48:50 2023-09-20 - [26/39]- feas_num 18 - patience: 3,  f1 score is: 0.913148, current part of dataset best score is: 0.918821\n",
      "17:48:50 2023-09-20 - [27/39]- feas_num 19 - patience: 4,  f1 score is: 0.912048, current part of dataset best score is: 0.918821\n",
      "17:48:50 2023-09-20 - [28/39]- feas_num 20 - patience: 5,  f1 score is: 0.915865, current part of dataset best score is: 0.918821\n",
      "17:48:50 2023-09-20 - [29/39]- feas_num 21 - patience: 6,  f1 score is: 0.910736, current part of dataset best score is: 0.918821\n",
      "17:48:51 2023-09-20 - [30/39]- feas_num 22 - patience: 7,  f1 score is: 0.909639, current part of dataset best score is: 0.918821\n",
      "17:48:51 2023-09-20 - [31/39]- feas_num 23 - patience: 8,  f1 score is: 0.911164, current part of dataset best score is: 0.918821\n",
      "17:48:51 2023-09-20 - [32/39]- feas_num 24 - patience: 9,  f1 score is: 0.911392, current part of dataset best score is: 0.918821\n",
      "17:48:51 2023-09-20 - [33/39]- feas_num 25 - patience: 10,  f1 score is: 0.911499, current part of dataset best score is: 0.918821\n",
      "17:48:59 2023-09-20 - [float 33-19/45] - feas_num 17] # best loop,f1 score is: 0.918984\n",
      "17:49:15 2023-09-20 - [float 33-45/120] - feas_num 20] # best loop,f1 score is: 0.920578\n",
      "17:53:17 2023-09-20 - [34/39]- feas_num 21 - patience: 1,  f1 score is: 0.916617, current part of dataset best score is: 0.920578\n",
      "17:53:17 2023-09-20 - [35/39]- feas_num 22 - patience: 2,  f1 score is: 0.916968, current part of dataset best score is: 0.920578\n",
      "17:53:17 2023-09-20 - [36/39]- feas_num 23 - patience: 3,  f1 score is: 0.913669, current part of dataset best score is: 0.920578\n",
      "17:53:18 2023-09-20 - [37/39]- feas_num 24 - patience: 4,  f1 score is: 0.911058, current part of dataset best score is: 0.920578\n",
      "17:53:18 2023-09-20 - [38/39]- feas_num 25 - patience: 5,  f1 score is: 0.914766, current part of dataset best score is: 0.920578\n",
      "17:53:18 2023-09-20 - [39/39]- feas_num 26 - patience: 6,  f1 score is: 0.917266, current part of dataset best score is: 0.920578\n",
      "17:53:18 2023-09-20 - The initial full model was successfully obtained.\n",
      "LightGBM binary classifier with TreeExplainer shap values output has changed to a list of ndarray\n",
      "17:53:19 2023-09-20 - [1/39]- feas_num 2 - # best loop,  f1 score is: 0.913835, current part of dataset best score is: 0.913835\n",
      "17:53:19 2023-09-20 - [2/39]- feas_num 3 - patience: 1,  f1 score is: 0.907767, current part of dataset best score is: 0.913835\n",
      "17:53:19 2023-09-20 - [3/39]- feas_num 4 - patience: 2,  f1 score is: 0.912195, current part of dataset best score is: 0.913835\n",
      "17:53:20 2023-09-20 - [4/39]- feas_num 5 - patience: 3,  f1 score is: 0.907871, current part of dataset best score is: 0.913835\n",
      "17:53:20 2023-09-20 - [5/39]- feas_num 6 - patience: 4,  f1 score is: 0.908207, current part of dataset best score is: 0.913835\n",
      "17:53:20 2023-09-20 - [6/39]- feas_num 7 - patience: 5,  f1 score is: 0.913386, current part of dataset best score is: 0.913835\n",
      "17:53:31 2023-09-20 - [7/39]- feas_num 8 - # best loop,  f1 score is: 0.916262, current part of dataset best score is: 0.916262\n",
      "17:53:31 2023-09-20 - [8/39]- feas_num 3 - patience: 1,  f1 score is: 0.912068, current part of dataset best score is: 0.916262\n",
      "17:53:32 2023-09-20 - [9/39]- feas_num 4 - patience: 2,  f1 score is: 0.910855, current part of dataset best score is: 0.916262\n",
      "17:53:32 2023-09-20 - [10/39]- feas_num 5 - patience: 3,  f1 score is: 0.907983, current part of dataset best score is: 0.916262\n",
      "17:53:32 2023-09-20 - [11/39]- feas_num 6 - patience: 4,  f1 score is: 0.909312, current part of dataset best score is: 0.916262\n",
      "17:53:32 2023-09-20 - [12/39]- feas_num 7 - patience: 5,  f1 score is: 0.907329, current part of dataset best score is: 0.916262\n",
      "17:53:32 2023-09-20 - [13/39]- feas_num 8 - patience: 6,  f1 score is: 0.906326, current part of dataset best score is: 0.916262\n",
      "17:53:33 2023-09-20 - [14/39]- feas_num 9 - patience: 7,  f1 score is: 0.906553, current part of dataset best score is: 0.916262\n",
      "17:53:33 2023-09-20 - [15/39]- feas_num 10 - patience: 8,  f1 score is: 0.906118, current part of dataset best score is: 0.916262\n",
      "17:53:33 2023-09-20 - [16/39]- feas_num 11 - patience: 9,  f1 score is: 0.909976, current part of dataset best score is: 0.916262\n",
      "17:53:33 2023-09-20 - [17/39]- feas_num 12 - patience: 10,  f1 score is: 0.90887, current part of dataset best score is: 0.916262\n",
      "17:53:37 2023-09-20 - [float 17-6/45] - feas_num 4] # best loop,f1 score is: 0.91702\n",
      "17:54:33 2023-09-20 - [float 17-165/210] - feas_num 8] # best loop,f1 score is: 0.921037\n",
      "17:56:37 2023-09-20 - [18/39]- feas_num 9 - patience: 1,  f1 score is: 0.914494, current part of dataset best score is: 0.921037\n",
      "17:56:37 2023-09-20 - [19/39]- feas_num 10 - patience: 2,  f1 score is: 0.909861, current part of dataset best score is: 0.921037\n",
      "17:56:37 2023-09-20 - [20/39]- feas_num 11 - patience: 3,  f1 score is: 0.908648, current part of dataset best score is: 0.921037\n",
      "17:56:37 2023-09-20 - [21/39]- feas_num 12 - patience: 4,  f1 score is: 0.911192, current part of dataset best score is: 0.921037\n",
      "17:56:38 2023-09-20 - [22/39]- feas_num 13 - patience: 5,  f1 score is: 0.90665, current part of dataset best score is: 0.921037\n",
      "17:56:38 2023-09-20 - [23/39]- feas_num 14 - patience: 6,  f1 score is: 0.908425, current part of dataset best score is: 0.921037\n",
      "17:56:38 2023-09-20 - [24/39]- feas_num 15 - patience: 7,  f1 score is: 0.90665, current part of dataset best score is: 0.921037\n",
      "17:56:38 2023-09-20 - [25/39]- feas_num 16 - patience: 8,  f1 score is: 0.904177, current part of dataset best score is: 0.921037\n",
      "17:56:39 2023-09-20 - [26/39]- feas_num 17 - patience: 9,  f1 score is: 0.899939, current part of dataset best score is: 0.921037\n",
      "17:56:39 2023-09-20 - [27/39]- feas_num 18 - patience: 10,  f1 score is: 0.90543, current part of dataset best score is: 0.921037\n",
      "18:00:04 2023-09-20 - [28/39]- feas_num 9 - patience: 1,  f1 score is: 0.915254, current part of dataset best score is: 0.921037\n",
      "18:00:04 2023-09-20 - [29/39]- feas_num 10 - patience: 2,  f1 score is: 0.914286, current part of dataset best score is: 0.921037\n",
      "18:00:04 2023-09-20 - [30/39]- feas_num 11 - patience: 3,  f1 score is: 0.915254, current part of dataset best score is: 0.921037\n",
      "18:00:05 2023-09-20 - [31/39]- feas_num 12 - patience: 4,  f1 score is: 0.907758, current part of dataset best score is: 0.921037\n",
      "18:00:05 2023-09-20 - [32/39]- feas_num 13 - patience: 5,  f1 score is: 0.907871, current part of dataset best score is: 0.921037\n",
      "18:00:05 2023-09-20 - [33/39]- feas_num 14 - patience: 6,  f1 score is: 0.909535, current part of dataset best score is: 0.921037\n",
      "18:00:05 2023-09-20 - [34/39]- feas_num 15 - patience: 7,  f1 score is: 0.909866, current part of dataset best score is: 0.921037\n",
      "18:00:06 2023-09-20 - [35/39]- feas_num 16 - patience: 8,  f1 score is: 0.909861, current part of dataset best score is: 0.921037\n",
      "18:00:06 2023-09-20 - [36/39]- feas_num 17 - patience: 9,  f1 score is: 0.908648, current part of dataset best score is: 0.921037\n",
      "18:00:06 2023-09-20 - [37/39]- feas_num 18 - patience: 10,  f1 score is: 0.907317, current part of dataset best score is: 0.921037\n",
      "18:03:45 2023-09-20 - [38/39]- feas_num 9 - patience: 1,  f1 score is: 0.91616, current part of dataset best score is: 0.921037\n",
      "18:03:46 2023-09-20 - [39/39]- feas_num 10 - patience: 2,  f1 score is: 0.915459, current part of dataset best score is: 0.921037\n"
     ]
    },
    {
     "data": {
      "text/plain": [
       "<spinesUtils.feature_tools._feature_tools.TreeSequentialFeatureSelector at 0x1687984d0>"
      ]
     },
     "execution_count": 5,
     "metadata": {},
     "output_type": "execute_result"
    }
   ],
   "source": [
    "fe.fit(train[x_cols], train['y'])"
   ]
  },
  {
   "cell_type": "code",
   "execution_count": 7,
   "metadata": {
    "tags": []
   },
   "outputs": [],
   "source": [
    "from mlxtend.feature_selection import SequentialFeatureSelector as SFS"
   ]
  },
  {
   "cell_type": "code",
   "execution_count": 8,
   "metadata": {
    "tags": []
   },
   "outputs": [],
   "source": [
    "estimator = LGBMClassifier(random_state=0)\n",
    "sfs = SFS(estimator, k_features='best', floating=True, n_jobs=10, scoring='f1', verbose=True)"
   ]
  },
  {
   "cell_type": "code",
   "execution_count": 12,
   "metadata": {
    "tags": []
   },
   "outputs": [
    {
     "data": {
      "text/html": [
       "<style>#sk-container-id-2 {color: black;}#sk-container-id-2 pre{padding: 0;}#sk-container-id-2 div.sk-toggleable {background-color: white;}#sk-container-id-2 label.sk-toggleable__label {cursor: pointer;display: block;width: 100%;margin-bottom: 0;padding: 0.3em;box-sizing: border-box;text-align: center;}#sk-container-id-2 label.sk-toggleable__label-arrow:before {content: \"▸\";float: left;margin-right: 0.25em;color: #696969;}#sk-container-id-2 label.sk-toggleable__label-arrow:hover:before {color: black;}#sk-container-id-2 div.sk-estimator:hover label.sk-toggleable__label-arrow:before {color: black;}#sk-container-id-2 div.sk-toggleable__content {max-height: 0;max-width: 0;overflow: hidden;text-align: left;background-color: #f0f8ff;}#sk-container-id-2 div.sk-toggleable__content pre {margin: 0.2em;color: black;border-radius: 0.25em;background-color: #f0f8ff;}#sk-container-id-2 input.sk-toggleable__control:checked~div.sk-toggleable__content {max-height: 200px;max-width: 100%;overflow: auto;}#sk-container-id-2 input.sk-toggleable__control:checked~label.sk-toggleable__label-arrow:before {content: \"▾\";}#sk-container-id-2 div.sk-estimator input.sk-toggleable__control:checked~label.sk-toggleable__label {background-color: #d4ebff;}#sk-container-id-2 div.sk-label input.sk-toggleable__control:checked~label.sk-toggleable__label {background-color: #d4ebff;}#sk-container-id-2 input.sk-hidden--visually {border: 0;clip: rect(1px 1px 1px 1px);clip: rect(1px, 1px, 1px, 1px);height: 1px;margin: -1px;overflow: hidden;padding: 0;position: absolute;width: 1px;}#sk-container-id-2 div.sk-estimator {font-family: monospace;background-color: #f0f8ff;border: 1px dotted black;border-radius: 0.25em;box-sizing: border-box;margin-bottom: 0.5em;}#sk-container-id-2 div.sk-estimator:hover {background-color: #d4ebff;}#sk-container-id-2 div.sk-parallel-item::after {content: \"\";width: 100%;border-bottom: 1px solid gray;flex-grow: 1;}#sk-container-id-2 div.sk-label:hover label.sk-toggleable__label {background-color: #d4ebff;}#sk-container-id-2 div.sk-serial::before {content: \"\";position: absolute;border-left: 1px solid gray;box-sizing: border-box;top: 0;bottom: 0;left: 50%;z-index: 0;}#sk-container-id-2 div.sk-serial {display: flex;flex-direction: column;align-items: center;background-color: white;padding-right: 0.2em;padding-left: 0.2em;position: relative;}#sk-container-id-2 div.sk-item {position: relative;z-index: 1;}#sk-container-id-2 div.sk-parallel {display: flex;align-items: stretch;justify-content: center;background-color: white;position: relative;}#sk-container-id-2 div.sk-item::before, #sk-container-id-2 div.sk-parallel-item::before {content: \"\";position: absolute;border-left: 1px solid gray;box-sizing: border-box;top: 0;bottom: 0;left: 50%;z-index: -1;}#sk-container-id-2 div.sk-parallel-item {display: flex;flex-direction: column;z-index: 1;position: relative;background-color: white;}#sk-container-id-2 div.sk-parallel-item:first-child::after {align-self: flex-end;width: 50%;}#sk-container-id-2 div.sk-parallel-item:last-child::after {align-self: flex-start;width: 50%;}#sk-container-id-2 div.sk-parallel-item:only-child::after {width: 0;}#sk-container-id-2 div.sk-dashed-wrapped {border: 1px dashed gray;margin: 0 0.4em 0.5em 0.4em;box-sizing: border-box;padding-bottom: 0.4em;background-color: white;}#sk-container-id-2 div.sk-label label {font-family: monospace;font-weight: bold;display: inline-block;line-height: 1.2em;}#sk-container-id-2 div.sk-label-container {text-align: center;}#sk-container-id-2 div.sk-container {/* jupyter's `normalize.less` sets `[hidden] { display: none; }` but bootstrap.min.css set `[hidden] { display: none !important; }` so we also need the `!important` here to be able to override the default hidden behavior on the sphinx rendered scikit-learn.org. See: https://github.com/scikit-learn/scikit-learn/issues/21755 */display: inline-block !important;position: relative;}#sk-container-id-2 div.sk-text-repr-fallback {display: none;}</style><div id=\"sk-container-id-2\" class=\"sk-top-container\"><div class=\"sk-text-repr-fallback\"><pre>SequentialFeatureSelector(estimator=LGBMClassifier(random_state=0), n_jobs=10)</pre><b>In a Jupyter environment, please rerun this cell to show the HTML representation or trust the notebook. <br />On GitHub, the HTML representation is unable to render, please try loading this page with nbviewer.org.</b></div><div class=\"sk-container\" hidden><div class=\"sk-item sk-dashed-wrapped\"><div class=\"sk-label-container\"><div class=\"sk-label sk-toggleable\"><input class=\"sk-toggleable__control sk-hidden--visually\" id=\"sk-estimator-id-4\" type=\"checkbox\" ><label for=\"sk-estimator-id-4\" class=\"sk-toggleable__label sk-toggleable__label-arrow\">SequentialFeatureSelector</label><div class=\"sk-toggleable__content\"><pre>SequentialFeatureSelector(estimator=LGBMClassifier(random_state=0), n_jobs=10)</pre></div></div></div><div class=\"sk-parallel\"><div class=\"sk-parallel-item\"><div class=\"sk-item\"><div class=\"sk-label-container\"><div class=\"sk-label sk-toggleable\"><input class=\"sk-toggleable__control sk-hidden--visually\" id=\"sk-estimator-id-5\" type=\"checkbox\" ><label for=\"sk-estimator-id-5\" class=\"sk-toggleable__label sk-toggleable__label-arrow\">estimator: LGBMClassifier</label><div class=\"sk-toggleable__content\"><pre>LGBMClassifier(random_state=0)</pre></div></div></div><div class=\"sk-serial\"><div class=\"sk-item\"><div class=\"sk-estimator sk-toggleable\"><input class=\"sk-toggleable__control sk-hidden--visually\" id=\"sk-estimator-id-6\" type=\"checkbox\" ><label for=\"sk-estimator-id-6\" class=\"sk-toggleable__label sk-toggleable__label-arrow\">LGBMClassifier</label><div class=\"sk-toggleable__content\"><pre>LGBMClassifier(random_state=0)</pre></div></div></div></div></div></div></div></div></div></div>"
      ],
      "text/plain": [
       "SequentialFeatureSelector(estimator=LGBMClassifier(random_state=0), n_jobs=10)"
      ]
     },
     "execution_count": 12,
     "metadata": {},
     "output_type": "execute_result"
    }
   ],
   "source": [
    "from sklearn.feature_selection import RFECV, SequentialFeatureSelector\n",
    "from lightgbm import LGBMClassifier\n",
    "\n",
    "estimator = LGBMClassifier(random_state=0)\n",
    "sfs = SequentialFeatureSelector(estimator, cv=5, n_jobs=10)\n",
    "sfs.fit(train[x_cols], train['y'])"
   ]
  },
  {
   "cell_type": "code",
   "execution_count": 8,
   "metadata": {
    "tags": []
   },
   "outputs": [
    {
     "name": "stdout",
     "output_type": "stream",
     "text": [
      "Fitting estimator with 40 features.\n",
      "Fitting estimator with 39 features.\n",
      "Fitting estimator with 38 features.\n",
      "Fitting estimator with 37 features.\n",
      "Fitting estimator with 36 features.\n",
      "Fitting estimator with 35 features.\n",
      "Fitting estimator with 34 features.\n",
      "Fitting estimator with 33 features.\n",
      "Fitting estimator with 32 features.\n",
      "Fitting estimator with 31 features.\n",
      "Fitting estimator with 30 features.\n",
      "Fitting estimator with 29 features.\n",
      "Fitting estimator with 28 features.\n",
      "Fitting estimator with 27 features.\n",
      "Fitting estimator with 26 features.\n",
      "Fitting estimator with 25 features.\n",
      "Fitting estimator with 24 features.\n",
      "Fitting estimator with 23 features.\n",
      "Fitting estimator with 22 features.\n",
      "Fitting estimator with 21 features.\n",
      "Fitting estimator with 20 features.\n",
      "Fitting estimator with 19 features.\n",
      "Fitting estimator with 18 features.\n",
      "Fitting estimator with 17 features.\n",
      "Fitting estimator with 16 features.\n",
      "Fitting estimator with 15 features.\n",
      "Fitting estimator with 14 features.\n",
      "Fitting estimator with 13 features.\n",
      "Fitting estimator with 12 features.\n",
      "Fitting estimator with 11 features.\n",
      "Fitting estimator with 10 features.\n"
     ]
    },
    {
     "data": {
      "text/html": [
       "<style>#sk-container-id-1 {color: black;}#sk-container-id-1 pre{padding: 0;}#sk-container-id-1 div.sk-toggleable {background-color: white;}#sk-container-id-1 label.sk-toggleable__label {cursor: pointer;display: block;width: 100%;margin-bottom: 0;padding: 0.3em;box-sizing: border-box;text-align: center;}#sk-container-id-1 label.sk-toggleable__label-arrow:before {content: \"▸\";float: left;margin-right: 0.25em;color: #696969;}#sk-container-id-1 label.sk-toggleable__label-arrow:hover:before {color: black;}#sk-container-id-1 div.sk-estimator:hover label.sk-toggleable__label-arrow:before {color: black;}#sk-container-id-1 div.sk-toggleable__content {max-height: 0;max-width: 0;overflow: hidden;text-align: left;background-color: #f0f8ff;}#sk-container-id-1 div.sk-toggleable__content pre {margin: 0.2em;color: black;border-radius: 0.25em;background-color: #f0f8ff;}#sk-container-id-1 input.sk-toggleable__control:checked~div.sk-toggleable__content {max-height: 200px;max-width: 100%;overflow: auto;}#sk-container-id-1 input.sk-toggleable__control:checked~label.sk-toggleable__label-arrow:before {content: \"▾\";}#sk-container-id-1 div.sk-estimator input.sk-toggleable__control:checked~label.sk-toggleable__label {background-color: #d4ebff;}#sk-container-id-1 div.sk-label input.sk-toggleable__control:checked~label.sk-toggleable__label {background-color: #d4ebff;}#sk-container-id-1 input.sk-hidden--visually {border: 0;clip: rect(1px 1px 1px 1px);clip: rect(1px, 1px, 1px, 1px);height: 1px;margin: -1px;overflow: hidden;padding: 0;position: absolute;width: 1px;}#sk-container-id-1 div.sk-estimator {font-family: monospace;background-color: #f0f8ff;border: 1px dotted black;border-radius: 0.25em;box-sizing: border-box;margin-bottom: 0.5em;}#sk-container-id-1 div.sk-estimator:hover {background-color: #d4ebff;}#sk-container-id-1 div.sk-parallel-item::after {content: \"\";width: 100%;border-bottom: 1px solid gray;flex-grow: 1;}#sk-container-id-1 div.sk-label:hover label.sk-toggleable__label {background-color: #d4ebff;}#sk-container-id-1 div.sk-serial::before {content: \"\";position: absolute;border-left: 1px solid gray;box-sizing: border-box;top: 0;bottom: 0;left: 50%;z-index: 0;}#sk-container-id-1 div.sk-serial {display: flex;flex-direction: column;align-items: center;background-color: white;padding-right: 0.2em;padding-left: 0.2em;position: relative;}#sk-container-id-1 div.sk-item {position: relative;z-index: 1;}#sk-container-id-1 div.sk-parallel {display: flex;align-items: stretch;justify-content: center;background-color: white;position: relative;}#sk-container-id-1 div.sk-item::before, #sk-container-id-1 div.sk-parallel-item::before {content: \"\";position: absolute;border-left: 1px solid gray;box-sizing: border-box;top: 0;bottom: 0;left: 50%;z-index: -1;}#sk-container-id-1 div.sk-parallel-item {display: flex;flex-direction: column;z-index: 1;position: relative;background-color: white;}#sk-container-id-1 div.sk-parallel-item:first-child::after {align-self: flex-end;width: 50%;}#sk-container-id-1 div.sk-parallel-item:last-child::after {align-self: flex-start;width: 50%;}#sk-container-id-1 div.sk-parallel-item:only-child::after {width: 0;}#sk-container-id-1 div.sk-dashed-wrapped {border: 1px dashed gray;margin: 0 0.4em 0.5em 0.4em;box-sizing: border-box;padding-bottom: 0.4em;background-color: white;}#sk-container-id-1 div.sk-label label {font-family: monospace;font-weight: bold;display: inline-block;line-height: 1.2em;}#sk-container-id-1 div.sk-label-container {text-align: center;}#sk-container-id-1 div.sk-container {/* jupyter's `normalize.less` sets `[hidden] { display: none; }` but bootstrap.min.css set `[hidden] { display: none !important; }` so we also need the `!important` here to be able to override the default hidden behavior on the sphinx rendered scikit-learn.org. See: https://github.com/scikit-learn/scikit-learn/issues/21755 */display: inline-block !important;position: relative;}#sk-container-id-1 div.sk-text-repr-fallback {display: none;}</style><div id=\"sk-container-id-1\" class=\"sk-top-container\"><div class=\"sk-text-repr-fallback\"><pre>RFECV(cv=5, estimator=LGBMClassifier(random_state=0), n_jobs=10, verbose=1)</pre><b>In a Jupyter environment, please rerun this cell to show the HTML representation or trust the notebook. <br />On GitHub, the HTML representation is unable to render, please try loading this page with nbviewer.org.</b></div><div class=\"sk-container\" hidden><div class=\"sk-item sk-dashed-wrapped\"><div class=\"sk-label-container\"><div class=\"sk-label sk-toggleable\"><input class=\"sk-toggleable__control sk-hidden--visually\" id=\"sk-estimator-id-1\" type=\"checkbox\" ><label for=\"sk-estimator-id-1\" class=\"sk-toggleable__label sk-toggleable__label-arrow\">RFECV</label><div class=\"sk-toggleable__content\"><pre>RFECV(cv=5, estimator=LGBMClassifier(random_state=0), n_jobs=10, verbose=1)</pre></div></div></div><div class=\"sk-parallel\"><div class=\"sk-parallel-item\"><div class=\"sk-item\"><div class=\"sk-label-container\"><div class=\"sk-label sk-toggleable\"><input class=\"sk-toggleable__control sk-hidden--visually\" id=\"sk-estimator-id-2\" type=\"checkbox\" ><label for=\"sk-estimator-id-2\" class=\"sk-toggleable__label sk-toggleable__label-arrow\">estimator: LGBMClassifier</label><div class=\"sk-toggleable__content\"><pre>LGBMClassifier(random_state=0)</pre></div></div></div><div class=\"sk-serial\"><div class=\"sk-item\"><div class=\"sk-estimator sk-toggleable\"><input class=\"sk-toggleable__control sk-hidden--visually\" id=\"sk-estimator-id-3\" type=\"checkbox\" ><label for=\"sk-estimator-id-3\" class=\"sk-toggleable__label sk-toggleable__label-arrow\">LGBMClassifier</label><div class=\"sk-toggleable__content\"><pre>LGBMClassifier(random_state=0)</pre></div></div></div></div></div></div></div></div></div></div>"
      ],
      "text/plain": [
       "RFECV(cv=5, estimator=LGBMClassifier(random_state=0), n_jobs=10, verbose=1)"
      ]
     },
     "execution_count": 8,
     "metadata": {},
     "output_type": "execute_result"
    }
   ],
   "source": [
    "from sklearn.feature_selection import RFECV, SequentialFeatureSelector\n",
    "from lightgbm import LGBMClassifier\n",
    "\n",
    "estimator = LGBMClassifier(random_state=0)\n",
    "rfecv = RFECV(estimator, step=1, cv=5, n_jobs=10, verbose=1)\n",
    "rfecv.fit(train[x_cols], train['y'])"
   ]
  },
  {
   "cell_type": "code",
   "execution_count": 9,
   "metadata": {
    "scrolled": true,
    "tags": []
   },
   "outputs": [
    {
     "name": "stderr",
     "output_type": "stream",
     "text": [
      "[Parallel(n_jobs=10)]: Using backend LokyBackend with 10 concurrent workers.\n",
      "[Parallel(n_jobs=10)]: Done  40 out of  40 | elapsed:    3.0s finished\n",
      "Features: 1/40[Parallel(n_jobs=10)]: Using backend LokyBackend with 10 concurrent workers.\n",
      "[Parallel(n_jobs=10)]: Done  39 out of  39 | elapsed:    1.2s finished\n",
      "Features: 2/40[Parallel(n_jobs=10)]: Using backend LokyBackend with 10 concurrent workers.\n",
      "[Parallel(n_jobs=10)]: Done  38 out of  38 | elapsed:    1.4s finished\n",
      "[Parallel(n_jobs=2)]: Using backend LokyBackend with 2 concurrent workers.\n",
      "[Parallel(n_jobs=2)]: Done   2 out of   2 | elapsed:    1.4s remaining:    0.0s\n",
      "[Parallel(n_jobs=2)]: Done   2 out of   2 | elapsed:    1.4s finished\n",
      "Features: 3/40[Parallel(n_jobs=10)]: Using backend LokyBackend with 10 concurrent workers.\n",
      "[Parallel(n_jobs=10)]: Done  37 out of  37 | elapsed:    2.8s finished\n",
      "[Parallel(n_jobs=3)]: Using backend LokyBackend with 3 concurrent workers.\n",
      "[Parallel(n_jobs=3)]: Done   3 out of   3 | elapsed:    1.4s finished\n",
      "Features: 4/40[Parallel(n_jobs=10)]: Using backend LokyBackend with 10 concurrent workers.\n",
      "[Parallel(n_jobs=10)]: Done  36 out of  36 | elapsed:    2.8s finished\n",
      "[Parallel(n_jobs=4)]: Using backend LokyBackend with 4 concurrent workers.\n",
      "[Parallel(n_jobs=4)]: Done   2 out of   4 | elapsed:    1.2s remaining:    1.2s\n",
      "[Parallel(n_jobs=4)]: Done   4 out of   4 | elapsed:    1.2s finished\n",
      "Features: 5/40[Parallel(n_jobs=10)]: Using backend LokyBackend with 10 concurrent workers.\n",
      "[Parallel(n_jobs=10)]: Done  35 out of  35 | elapsed:    3.2s finished\n",
      "[Parallel(n_jobs=5)]: Using backend LokyBackend with 5 concurrent workers.\n",
      "[Parallel(n_jobs=5)]: Done   2 out of   5 | elapsed:    1.3s remaining:    2.0s\n",
      "[Parallel(n_jobs=5)]: Done   5 out of   5 | elapsed:    1.4s finished\n",
      "Features: 6/40[Parallel(n_jobs=10)]: Using backend LokyBackend with 10 concurrent workers.\n",
      "[Parallel(n_jobs=10)]: Done  34 out of  34 | elapsed:    3.0s finished\n",
      "[Parallel(n_jobs=6)]: Using backend LokyBackend with 6 concurrent workers.\n",
      "[Parallel(n_jobs=6)]: Done   2 out of   6 | elapsed:    0.5s remaining:    1.0s\n",
      "[Parallel(n_jobs=6)]: Done   6 out of   6 | elapsed:    0.5s finished\n",
      "Features: 7/40[Parallel(n_jobs=10)]: Using backend LokyBackend with 10 concurrent workers.\n",
      "[Parallel(n_jobs=10)]: Done  33 out of  33 | elapsed:    2.3s finished\n",
      "[Parallel(n_jobs=7)]: Using backend LokyBackend with 7 concurrent workers.\n",
      "[Parallel(n_jobs=7)]: Done   2 out of   7 | elapsed:    0.5s remaining:    1.3s\n",
      "[Parallel(n_jobs=7)]: Done   7 out of   7 | elapsed:    0.6s finished\n",
      "Features: 8/40[Parallel(n_jobs=10)]: Using backend LokyBackend with 10 concurrent workers.\n",
      "[Parallel(n_jobs=10)]: Done  32 out of  32 | elapsed:    2.1s finished\n",
      "[Parallel(n_jobs=8)]: Using backend LokyBackend with 8 concurrent workers.\n",
      "[Parallel(n_jobs=8)]: Done   2 out of   8 | elapsed:    0.6s remaining:    1.7s\n",
      "[Parallel(n_jobs=8)]: Done   8 out of   8 | elapsed:    0.6s finished\n",
      "Features: 9/40[Parallel(n_jobs=10)]: Using backend LokyBackend with 10 concurrent workers.\n",
      "[Parallel(n_jobs=10)]: Done  31 out of  31 | elapsed:    2.1s finished\n",
      "[Parallel(n_jobs=9)]: Using backend LokyBackend with 9 concurrent workers.\n",
      "[Parallel(n_jobs=9)]: Done   2 out of   9 | elapsed:    0.6s remaining:    2.1s\n",
      "[Parallel(n_jobs=9)]: Done   9 out of   9 | elapsed:    0.7s finished\n",
      "Features: 10/40[Parallel(n_jobs=10)]: Using backend LokyBackend with 10 concurrent workers.\n",
      "[Parallel(n_jobs=10)]: Done  30 out of  30 | elapsed:    2.3s finished\n",
      "[Parallel(n_jobs=10)]: Using backend LokyBackend with 10 concurrent workers.\n",
      "[Parallel(n_jobs=10)]: Done   2 out of  10 | elapsed:    0.6s remaining:    2.3s\n",
      "[Parallel(n_jobs=10)]: Done  10 out of  10 | elapsed:    0.6s finished\n",
      "Features: 11/40[Parallel(n_jobs=10)]: Using backend LokyBackend with 10 concurrent workers.\n",
      "[Parallel(n_jobs=10)]: Done  29 out of  29 | elapsed:    2.0s finished\n",
      "[Parallel(n_jobs=10)]: Using backend LokyBackend with 10 concurrent workers.\n",
      "[Parallel(n_jobs=10)]: Done   4 out of  11 | elapsed:    0.6s remaining:    1.1s\n",
      "[Parallel(n_jobs=10)]: Done  11 out of  11 | elapsed:    1.1s finished\n",
      "[Parallel(n_jobs=10)]: Using backend LokyBackend with 10 concurrent workers.\n",
      "[Parallel(n_jobs=10)]: Done   2 out of  10 | elapsed:    0.6s remaining:    2.2s\n",
      "[Parallel(n_jobs=10)]: Done  10 out of  10 | elapsed:    0.7s finished\n",
      "Features: 11/40[Parallel(n_jobs=10)]: Using backend LokyBackend with 10 concurrent workers.\n",
      "[Parallel(n_jobs=10)]: Done  29 out of  29 | elapsed:    1.9s finished\n",
      "[Parallel(n_jobs=10)]: Using backend LokyBackend with 10 concurrent workers.\n",
      "[Parallel(n_jobs=10)]: Done   4 out of  11 | elapsed:    0.6s remaining:    1.1s\n",
      "[Parallel(n_jobs=10)]: Done  11 out of  11 | elapsed:    1.1s finished\n",
      "Features: 12/40[Parallel(n_jobs=10)]: Using backend LokyBackend with 10 concurrent workers.\n",
      "[Parallel(n_jobs=10)]: Done  28 out of  28 | elapsed:    2.0s finished\n",
      "[Parallel(n_jobs=10)]: Using backend LokyBackend with 10 concurrent workers.\n",
      "[Parallel(n_jobs=10)]: Done   6 out of  12 | elapsed:    0.7s remaining:    0.7s\n",
      "[Parallel(n_jobs=10)]: Done  12 out of  12 | elapsed:    1.1s finished\n",
      "Features: 13/40[Parallel(n_jobs=10)]: Using backend LokyBackend with 10 concurrent workers.\n",
      "[Parallel(n_jobs=10)]: Done  27 out of  27 | elapsed:    2.3s finished\n",
      "[Parallel(n_jobs=10)]: Using backend LokyBackend with 10 concurrent workers.\n",
      "[Parallel(n_jobs=10)]: Done   8 out of  13 | elapsed:    0.8s remaining:    0.5s\n",
      "[Parallel(n_jobs=10)]: Done  13 out of  13 | elapsed:    1.3s finished\n",
      "Features: 14/40[Parallel(n_jobs=10)]: Using backend LokyBackend with 10 concurrent workers.\n",
      "[Parallel(n_jobs=10)]: Done  26 out of  26 | elapsed:    2.3s finished\n",
      "[Parallel(n_jobs=10)]: Using backend LokyBackend with 10 concurrent workers.\n",
      "[Parallel(n_jobs=10)]: Done  10 out of  14 | elapsed:    0.8s remaining:    0.3s\n",
      "[Parallel(n_jobs=10)]: Done  14 out of  14 | elapsed:    1.3s finished\n",
      "[Parallel(n_jobs=10)]: Using backend LokyBackend with 10 concurrent workers.\n",
      "[Parallel(n_jobs=10)]: Done   8 out of  13 | elapsed:    0.7s remaining:    0.5s\n",
      "[Parallel(n_jobs=10)]: Done  13 out of  13 | elapsed:    1.3s finished\n",
      "Features: 14/40[Parallel(n_jobs=10)]: Using backend LokyBackend with 10 concurrent workers.\n",
      "[Parallel(n_jobs=10)]: Done  26 out of  26 | elapsed:    2.2s finished\n",
      "[Parallel(n_jobs=10)]: Using backend LokyBackend with 10 concurrent workers.\n",
      "[Parallel(n_jobs=10)]: Done  10 out of  14 | elapsed:    0.7s remaining:    0.3s\n",
      "[Parallel(n_jobs=10)]: Done  14 out of  14 | elapsed:    1.3s finished\n",
      "Features: 15/40[Parallel(n_jobs=10)]: Using backend LokyBackend with 10 concurrent workers.\n",
      "[Parallel(n_jobs=10)]: Done  25 out of  25 | elapsed:    2.2s finished\n",
      "[Parallel(n_jobs=10)]: Using backend LokyBackend with 10 concurrent workers.\n",
      "[Parallel(n_jobs=10)]: Done  12 out of  15 | elapsed:    1.3s remaining:    0.3s\n",
      "[Parallel(n_jobs=10)]: Done  15 out of  15 | elapsed:    1.4s finished\n",
      "Features: 16/40[Parallel(n_jobs=10)]: Using backend LokyBackend with 10 concurrent workers.\n",
      "[Parallel(n_jobs=10)]: Done  24 out of  24 | elapsed:    2.3s finished\n",
      "[Parallel(n_jobs=10)]: Using backend LokyBackend with 10 concurrent workers.\n",
      "[Parallel(n_jobs=10)]: Done  14 out of  16 | elapsed:    1.4s remaining:    0.2s\n",
      "[Parallel(n_jobs=10)]: Done  16 out of  16 | elapsed:    1.5s finished\n",
      "Features: 17/40[Parallel(n_jobs=10)]: Using backend LokyBackend with 10 concurrent workers.\n",
      "[Parallel(n_jobs=10)]: Done  23 out of  23 | elapsed:    2.5s finished\n",
      "[Parallel(n_jobs=10)]: Using backend LokyBackend with 10 concurrent workers.\n",
      "[Parallel(n_jobs=10)]: Done  17 out of  17 | elapsed:    1.6s finished\n",
      "Features: 18/40[Parallel(n_jobs=10)]: Using backend LokyBackend with 10 concurrent workers.\n",
      "[Parallel(n_jobs=10)]: Done  22 out of  22 | elapsed:    2.5s finished\n",
      "[Parallel(n_jobs=10)]: Using backend LokyBackend with 10 concurrent workers.\n",
      "[Parallel(n_jobs=10)]: Done  18 out of  18 | elapsed:    1.6s remaining:    0.0s\n",
      "[Parallel(n_jobs=10)]: Done  18 out of  18 | elapsed:    1.6s finished\n",
      "Features: 19/40[Parallel(n_jobs=10)]: Using backend LokyBackend with 10 concurrent workers.\n",
      "[Parallel(n_jobs=10)]: Done  21 out of  21 | elapsed:    2.6s finished\n",
      "[Parallel(n_jobs=10)]: Using backend LokyBackend with 10 concurrent workers.\n",
      "[Parallel(n_jobs=10)]: Done  19 out of  19 | elapsed:    1.9s finished\n",
      "Features: 20/40[Parallel(n_jobs=10)]: Using backend LokyBackend with 10 concurrent workers.\n",
      "[Parallel(n_jobs=10)]: Done  20 out of  20 | elapsed:    2.0s finished\n",
      "[Parallel(n_jobs=10)]: Using backend LokyBackend with 10 concurrent workers.\n",
      "[Parallel(n_jobs=10)]: Done  20 out of  20 | elapsed:    1.9s finished\n",
      "[Parallel(n_jobs=10)]: Using backend LokyBackend with 10 concurrent workers.\n",
      "[Parallel(n_jobs=10)]: Done  19 out of  19 | elapsed:    1.7s finished\n",
      "Features: 20/40[Parallel(n_jobs=10)]: Using backend LokyBackend with 10 concurrent workers.\n",
      "[Parallel(n_jobs=10)]: Done  20 out of  20 | elapsed:    2.0s finished\n",
      "[Parallel(n_jobs=10)]: Using backend LokyBackend with 10 concurrent workers.\n",
      "[Parallel(n_jobs=10)]: Done  20 out of  20 | elapsed:    1.9s finished\n",
      "Features: 21/40[Parallel(n_jobs=10)]: Using backend LokyBackend with 10 concurrent workers.\n",
      "[Parallel(n_jobs=10)]: Done  19 out of  19 | elapsed:    2.0s finished\n",
      "[Parallel(n_jobs=10)]: Using backend LokyBackend with 10 concurrent workers.\n",
      "[Parallel(n_jobs=10)]: Done  21 out of  21 | elapsed:    2.7s finished\n",
      "Features: 22/40[Parallel(n_jobs=10)]: Using backend LokyBackend with 10 concurrent workers.\n",
      "[Parallel(n_jobs=10)]: Done  18 out of  18 | elapsed:    1.9s remaining:    0.0s\n",
      "[Parallel(n_jobs=10)]: Done  18 out of  18 | elapsed:    1.9s finished\n",
      "[Parallel(n_jobs=10)]: Using backend LokyBackend with 10 concurrent workers.\n",
      "[Parallel(n_jobs=10)]: Done  22 out of  22 | elapsed:    2.8s finished\n",
      "Features: 23/40[Parallel(n_jobs=10)]: Using backend LokyBackend with 10 concurrent workers.\n",
      "[Parallel(n_jobs=10)]: Done  17 out of  17 | elapsed:    2.0s finished\n",
      "[Parallel(n_jobs=10)]: Using backend LokyBackend with 10 concurrent workers.\n",
      "[Parallel(n_jobs=10)]: Done  23 out of  23 | elapsed:    2.9s finished\n",
      "[Parallel(n_jobs=10)]: Using backend LokyBackend with 10 concurrent workers.\n",
      "[Parallel(n_jobs=10)]: Done  22 out of  22 | elapsed:    2.8s finished\n",
      "Features: 23/40[Parallel(n_jobs=10)]: Using backend LokyBackend with 10 concurrent workers.\n",
      "[Parallel(n_jobs=10)]: Done  17 out of  17 | elapsed:    2.0s finished\n",
      "[Parallel(n_jobs=10)]: Using backend LokyBackend with 10 concurrent workers.\n",
      "[Parallel(n_jobs=10)]: Done  23 out of  23 | elapsed:    2.8s finished\n",
      "Features: 24/40[Parallel(n_jobs=10)]: Using backend LokyBackend with 10 concurrent workers.\n",
      "[Parallel(n_jobs=10)]: Done  14 out of  16 | elapsed:    2.0s remaining:    0.3s\n",
      "[Parallel(n_jobs=10)]: Done  16 out of  16 | elapsed:    2.0s finished\n",
      "[Parallel(n_jobs=10)]: Using backend LokyBackend with 10 concurrent workers.\n",
      "[Parallel(n_jobs=10)]: Done  24 out of  24 | elapsed:    3.0s finished\n",
      "Features: 25/40[Parallel(n_jobs=10)]: Using backend LokyBackend with 10 concurrent workers.\n",
      "[Parallel(n_jobs=10)]: Done  12 out of  15 | elapsed:    2.1s remaining:    0.5s\n",
      "[Parallel(n_jobs=10)]: Done  15 out of  15 | elapsed:    2.1s finished\n",
      "[Parallel(n_jobs=10)]: Using backend LokyBackend with 10 concurrent workers.\n",
      "[Parallel(n_jobs=10)]: Done  25 out of  25 | elapsed:    3.1s finished\n",
      "Features: 26/40[Parallel(n_jobs=10)]: Using backend LokyBackend with 10 concurrent workers.\n",
      "[Parallel(n_jobs=10)]: Done  10 out of  14 | elapsed:    1.3s remaining:    0.5s\n",
      "[Parallel(n_jobs=10)]: Done  14 out of  14 | elapsed:    2.2s finished\n",
      "[Parallel(n_jobs=10)]: Using backend LokyBackend with 10 concurrent workers.\n",
      "[Parallel(n_jobs=10)]: Done  26 out of  26 | elapsed:    3.5s finished\n",
      "Features: 27/40[Parallel(n_jobs=10)]: Using backend LokyBackend with 10 concurrent workers.\n",
      "[Parallel(n_jobs=10)]: Done   8 out of  13 | elapsed:    1.3s remaining:    0.8s\n",
      "[Parallel(n_jobs=10)]: Done  13 out of  13 | elapsed:    2.2s finished\n",
      "[Parallel(n_jobs=10)]: Using backend LokyBackend with 10 concurrent workers.\n",
      "[Parallel(n_jobs=10)]: Done  27 out of  27 | elapsed:    3.4s finished\n",
      "Features: 28/40[Parallel(n_jobs=10)]: Using backend LokyBackend with 10 concurrent workers.\n",
      "[Parallel(n_jobs=10)]: Done   6 out of  12 | elapsed:    1.3s remaining:    1.3s\n",
      "[Parallel(n_jobs=10)]: Done  12 out of  12 | elapsed:    2.2s finished\n",
      "[Parallel(n_jobs=10)]: Using backend LokyBackend with 10 concurrent workers.\n",
      "[Parallel(n_jobs=10)]: Done  28 out of  28 | elapsed:    3.5s finished\n",
      "Features: 29/40[Parallel(n_jobs=10)]: Using backend LokyBackend with 10 concurrent workers.\n",
      "[Parallel(n_jobs=10)]: Done   4 out of  11 | elapsed:    1.3s remaining:    2.2s\n",
      "[Parallel(n_jobs=10)]: Done  11 out of  11 | elapsed:    2.3s finished\n",
      "[Parallel(n_jobs=10)]: Using backend LokyBackend with 10 concurrent workers.\n",
      "[Parallel(n_jobs=10)]: Done  29 out of  29 | elapsed:    3.8s finished\n",
      "[Parallel(n_jobs=10)]: Using backend LokyBackend with 10 concurrent workers.\n",
      "[Parallel(n_jobs=10)]: Done  28 out of  28 | elapsed:    3.6s finished\n",
      "[Parallel(n_jobs=10)]: Using backend LokyBackend with 10 concurrent workers.\n",
      "[Parallel(n_jobs=10)]: Done  27 out of  27 | elapsed:    3.4s finished\n",
      "Features: 28/40[Parallel(n_jobs=10)]: Using backend LokyBackend with 10 concurrent workers.\n",
      "[Parallel(n_jobs=10)]: Done   6 out of  12 | elapsed:    1.2s remaining:    1.2s\n",
      "[Parallel(n_jobs=10)]: Done  12 out of  12 | elapsed:    2.2s finished\n",
      "[Parallel(n_jobs=10)]: Using backend LokyBackend with 10 concurrent workers.\n",
      "[Parallel(n_jobs=10)]: Done  28 out of  28 | elapsed:    3.7s finished\n",
      "Features: 29/40[Parallel(n_jobs=10)]: Using backend LokyBackend with 10 concurrent workers.\n",
      "[Parallel(n_jobs=10)]: Done   4 out of  11 | elapsed:    1.3s remaining:    2.3s\n",
      "[Parallel(n_jobs=10)]: Done  11 out of  11 | elapsed:    2.3s finished\n",
      "[Parallel(n_jobs=10)]: Using backend LokyBackend with 10 concurrent workers.\n",
      "[Parallel(n_jobs=10)]: Done  29 out of  29 | elapsed:    3.9s finished\n",
      "[Parallel(n_jobs=10)]: Using backend LokyBackend with 10 concurrent workers.\n",
      "[Parallel(n_jobs=10)]: Done  28 out of  28 | elapsed:    3.6s finished\n",
      "[Parallel(n_jobs=10)]: Using backend LokyBackend with 10 concurrent workers.\n",
      "[Parallel(n_jobs=10)]: Done  27 out of  27 | elapsed:    3.3s finished\n",
      "Features: 28/40[Parallel(n_jobs=10)]: Using backend LokyBackend with 10 concurrent workers.\n",
      "[Parallel(n_jobs=10)]: Done   6 out of  12 | elapsed:    1.2s remaining:    1.2s\n",
      "[Parallel(n_jobs=10)]: Done  12 out of  12 | elapsed:    2.2s finished\n",
      "[Parallel(n_jobs=10)]: Using backend LokyBackend with 10 concurrent workers.\n",
      "[Parallel(n_jobs=10)]: Done  28 out of  28 | elapsed:    3.5s finished\n",
      "Features: 29/40[Parallel(n_jobs=10)]: Using backend LokyBackend with 10 concurrent workers.\n",
      "[Parallel(n_jobs=10)]: Done   4 out of  11 | elapsed:    1.3s remaining:    2.2s\n",
      "[Parallel(n_jobs=10)]: Done  11 out of  11 | elapsed:    2.3s finished\n",
      "[Parallel(n_jobs=10)]: Using backend LokyBackend with 10 concurrent workers.\n",
      "[Parallel(n_jobs=10)]: Done  29 out of  29 | elapsed:    4.0s finished\n",
      "Features: 30/40[Parallel(n_jobs=10)]: Using backend LokyBackend with 10 concurrent workers.\n",
      "[Parallel(n_jobs=10)]: Done   2 out of  10 | elapsed:    1.3s remaining:    5.3s\n",
      "[Parallel(n_jobs=10)]: Done  10 out of  10 | elapsed:    1.5s finished\n",
      "[Parallel(n_jobs=10)]: Using backend LokyBackend with 10 concurrent workers.\n",
      "[Parallel(n_jobs=10)]: Done  30 out of  30 | elapsed:    4.0s finished\n",
      "Features: 31/40[Parallel(n_jobs=9)]: Using backend LokyBackend with 9 concurrent workers.\n",
      "[Parallel(n_jobs=9)]: Done   2 out of   9 | elapsed:    1.3s remaining:    4.7s\n",
      "[Parallel(n_jobs=9)]: Done   9 out of   9 | elapsed:    1.5s finished\n",
      "[Parallel(n_jobs=10)]: Using backend LokyBackend with 10 concurrent workers.\n",
      "[Parallel(n_jobs=10)]: Done  31 out of  31 | elapsed:    5.1s finished\n",
      "[Parallel(n_jobs=10)]: Using backend LokyBackend with 10 concurrent workers.\n",
      "[Parallel(n_jobs=10)]: Done  30 out of  30 | elapsed:    4.0s finished\n",
      "[Parallel(n_jobs=10)]: Using backend LokyBackend with 10 concurrent workers.\n",
      "[Parallel(n_jobs=10)]: Done  29 out of  29 | elapsed:    3.7s finished\n",
      "[Parallel(n_jobs=10)]: Using backend LokyBackend with 10 concurrent workers.\n",
      "[Parallel(n_jobs=10)]: Done  28 out of  28 | elapsed:    3.5s finished\n",
      "Features: 29/40[Parallel(n_jobs=10)]: Using backend LokyBackend with 10 concurrent workers.\n",
      "[Parallel(n_jobs=10)]: Done   4 out of  11 | elapsed:    1.3s remaining:    2.2s\n",
      "[Parallel(n_jobs=10)]: Done  11 out of  11 | elapsed:    2.3s finished\n",
      "[Parallel(n_jobs=10)]: Using backend LokyBackend with 10 concurrent workers.\n",
      "[Parallel(n_jobs=10)]: Done  29 out of  29 | elapsed:    3.7s finished\n",
      "Features: 30/40[Parallel(n_jobs=10)]: Using backend LokyBackend with 10 concurrent workers.\n",
      "[Parallel(n_jobs=10)]: Done   2 out of  10 | elapsed:    1.4s remaining:    5.6s\n",
      "[Parallel(n_jobs=10)]: Done  10 out of  10 | elapsed:    1.5s finished\n",
      "[Parallel(n_jobs=10)]: Using backend LokyBackend with 10 concurrent workers.\n",
      "[Parallel(n_jobs=10)]: Done  30 out of  30 | elapsed:    4.0s finished\n",
      "[Parallel(n_jobs=10)]: Using backend LokyBackend with 10 concurrent workers.\n",
      "[Parallel(n_jobs=10)]: Done  29 out of  29 | elapsed:    3.7s finished\n",
      "Features: 30/40[Parallel(n_jobs=10)]: Using backend LokyBackend with 10 concurrent workers.\n",
      "[Parallel(n_jobs=10)]: Done   2 out of  10 | elapsed:    1.3s remaining:    5.2s\n",
      "[Parallel(n_jobs=10)]: Done  10 out of  10 | elapsed:    1.3s finished\n",
      "[Parallel(n_jobs=10)]: Using backend LokyBackend with 10 concurrent workers.\n",
      "[Parallel(n_jobs=10)]: Done  30 out of  30 | elapsed:    4.1s finished\n",
      "Features: 31/40[Parallel(n_jobs=9)]: Using backend LokyBackend with 9 concurrent workers.\n",
      "[Parallel(n_jobs=9)]: Done   2 out of   9 | elapsed:    1.3s remaining:    4.7s\n",
      "[Parallel(n_jobs=9)]: Done   9 out of   9 | elapsed:    1.5s finished\n",
      "[Parallel(n_jobs=10)]: Using backend LokyBackend with 10 concurrent workers.\n",
      "[Parallel(n_jobs=10)]: Done  31 out of  31 | elapsed:    5.1s finished\n",
      "Features: 32/40[Parallel(n_jobs=8)]: Using backend LokyBackend with 8 concurrent workers.\n",
      "[Parallel(n_jobs=8)]: Done   2 out of   8 | elapsed:    1.3s remaining:    4.0s\n",
      "[Parallel(n_jobs=8)]: Done   8 out of   8 | elapsed:    1.5s finished\n",
      "[Parallel(n_jobs=10)]: Using backend LokyBackend with 10 concurrent workers.\n",
      "[Parallel(n_jobs=10)]: Done  32 out of  32 | elapsed:    5.3s finished\n",
      "[Parallel(n_jobs=10)]: Using backend LokyBackend with 10 concurrent workers.\n",
      "[Parallel(n_jobs=10)]: Done  31 out of  31 | elapsed:    5.0s finished\n",
      "Features: 32/40[Parallel(n_jobs=8)]: Using backend LokyBackend with 8 concurrent workers.\n",
      "[Parallel(n_jobs=8)]: Done   2 out of   8 | elapsed:    1.3s remaining:    4.0s\n",
      "[Parallel(n_jobs=8)]: Done   8 out of   8 | elapsed:    1.4s finished\n",
      "[Parallel(n_jobs=10)]: Using backend LokyBackend with 10 concurrent workers.\n",
      "[Parallel(n_jobs=10)]: Done  32 out of  32 | elapsed:    5.2s finished\n",
      "Features: 33/40[Parallel(n_jobs=7)]: Using backend LokyBackend with 7 concurrent workers.\n",
      "[Parallel(n_jobs=7)]: Done   2 out of   7 | elapsed:    1.3s remaining:    3.4s\n",
      "[Parallel(n_jobs=7)]: Done   7 out of   7 | elapsed:    1.4s finished\n",
      "[Parallel(n_jobs=10)]: Using backend LokyBackend with 10 concurrent workers.\n",
      "[Parallel(n_jobs=10)]: Done  33 out of  33 | elapsed:    5.4s finished\n",
      "Features: 34/40[Parallel(n_jobs=6)]: Using backend LokyBackend with 6 concurrent workers.\n",
      "[Parallel(n_jobs=6)]: Done   2 out of   6 | elapsed:    1.4s remaining:    2.7s\n",
      "[Parallel(n_jobs=6)]: Done   6 out of   6 | elapsed:    1.4s finished\n",
      "[Parallel(n_jobs=10)]: Using backend LokyBackend with 10 concurrent workers.\n",
      "[Parallel(n_jobs=10)]: Done  34 out of  34 | elapsed:    5.9s finished\n",
      "Features: 35/40[Parallel(n_jobs=5)]: Using backend LokyBackend with 5 concurrent workers.\n",
      "[Parallel(n_jobs=5)]: Done   2 out of   5 | elapsed:    2.1s remaining:    3.1s\n",
      "[Parallel(n_jobs=5)]: Done   5 out of   5 | elapsed:    2.1s finished\n",
      "[Parallel(n_jobs=10)]: Using backend LokyBackend with 10 concurrent workers.\n",
      "[Parallel(n_jobs=10)]: Done  35 out of  35 | elapsed:    7.1s finished\n",
      "Features: 36/40[Parallel(n_jobs=4)]: Using backend LokyBackend with 4 concurrent workers.\n",
      "[Parallel(n_jobs=4)]: Done   2 out of   4 | elapsed:    1.8s remaining:    1.8s\n",
      "[Parallel(n_jobs=4)]: Done   4 out of   4 | elapsed:    1.8s finished\n",
      "[Parallel(n_jobs=10)]: Using backend LokyBackend with 10 concurrent workers.\n",
      "[Parallel(n_jobs=10)]: Done  36 out of  36 | elapsed:    7.1s finished\n",
      "[Parallel(n_jobs=10)]: Using backend LokyBackend with 10 concurrent workers.\n",
      "[Parallel(n_jobs=10)]: Done  35 out of  35 | elapsed:    5.8s finished\n",
      "Features: 36/40[Parallel(n_jobs=4)]: Using backend LokyBackend with 4 concurrent workers.\n",
      "[Parallel(n_jobs=4)]: Done   2 out of   4 | elapsed:    1.9s remaining:    1.9s\n",
      "[Parallel(n_jobs=4)]: Done   4 out of   4 | elapsed:    1.9s finished\n",
      "[Parallel(n_jobs=10)]: Using backend LokyBackend with 10 concurrent workers.\n",
      "[Parallel(n_jobs=10)]: Done  36 out of  36 | elapsed:    7.0s finished\n",
      "Features: 37/40[Parallel(n_jobs=3)]: Using backend LokyBackend with 3 concurrent workers.\n",
      "[Parallel(n_jobs=3)]: Done   3 out of   3 | elapsed:    1.8s finished\n",
      "[Parallel(n_jobs=10)]: Using backend LokyBackend with 10 concurrent workers.\n",
      "[Parallel(n_jobs=10)]: Done  37 out of  37 | elapsed:    7.4s finished\n",
      "[Parallel(n_jobs=10)]: Using backend LokyBackend with 10 concurrent workers.\n",
      "[Parallel(n_jobs=10)]: Done  36 out of  36 | elapsed:    6.0s finished\n",
      "Features: 37/40[Parallel(n_jobs=3)]: Using backend LokyBackend with 3 concurrent workers.\n",
      "[Parallel(n_jobs=3)]: Done   3 out of   3 | elapsed:    1.8s finished\n",
      "[Parallel(n_jobs=10)]: Using backend LokyBackend with 10 concurrent workers.\n",
      "[Parallel(n_jobs=10)]: Done  37 out of  37 | elapsed:    7.5s finished\n",
      "Features: 38/40[Parallel(n_jobs=2)]: Using backend LokyBackend with 2 concurrent workers.\n",
      "[Parallel(n_jobs=2)]: Done   2 out of   2 | elapsed:    2.2s remaining:    0.0s\n",
      "[Parallel(n_jobs=2)]: Done   2 out of   2 | elapsed:    2.2s finished\n",
      "[Parallel(n_jobs=10)]: Using backend LokyBackend with 10 concurrent workers.\n",
      "[Parallel(n_jobs=10)]: Done  38 out of  38 | elapsed:    7.9s finished\n",
      "[Parallel(n_jobs=10)]: Using backend LokyBackend with 10 concurrent workers.\n",
      "[Parallel(n_jobs=10)]: Done  37 out of  37 | elapsed:    6.1s finished\n",
      "Features: 38/40[Parallel(n_jobs=2)]: Using backend LokyBackend with 2 concurrent workers.\n",
      "[Parallel(n_jobs=2)]: Done   2 out of   2 | elapsed:    2.2s remaining:    0.0s\n",
      "[Parallel(n_jobs=2)]: Done   2 out of   2 | elapsed:    2.2s finished\n",
      "[Parallel(n_jobs=10)]: Using backend LokyBackend with 10 concurrent workers.\n",
      "[Parallel(n_jobs=10)]: Done  38 out of  38 | elapsed:    7.7s finished\n",
      "Features: 39/40[Parallel(n_jobs=1)]: Using backend SequentialBackend with 1 concurrent workers.\n",
      "[Parallel(n_jobs=1)]: Done   1 out of   1 | elapsed:    1.4s finished\n",
      "[Parallel(n_jobs=10)]: Using backend LokyBackend with 10 concurrent workers.\n",
      "[Parallel(n_jobs=10)]: Done  39 out of  39 | elapsed:    6.6s finished\n",
      "[Parallel(n_jobs=10)]: Using backend LokyBackend with 10 concurrent workers.\n",
      "[Parallel(n_jobs=10)]: Done  38 out of  38 | elapsed:    6.4s finished\n",
      "[Parallel(n_jobs=10)]: Using backend LokyBackend with 10 concurrent workers.\n",
      "[Parallel(n_jobs=10)]: Done  37 out of  37 | elapsed:    6.1s finished\n",
      "Features: 38/40[Parallel(n_jobs=2)]: Using backend LokyBackend with 2 concurrent workers.\n",
      "[Parallel(n_jobs=2)]: Done   2 out of   2 | elapsed:    2.3s remaining:    0.0s\n",
      "[Parallel(n_jobs=2)]: Done   2 out of   2 | elapsed:    2.3s finished\n",
      "[Parallel(n_jobs=10)]: Using backend LokyBackend with 10 concurrent workers.\n",
      "[Parallel(n_jobs=10)]: Done  38 out of  38 | elapsed:    7.7s finished\n",
      "Features: 39/40[Parallel(n_jobs=1)]: Using backend SequentialBackend with 1 concurrent workers.\n",
      "[Parallel(n_jobs=1)]: Done   1 out of   1 | elapsed:    1.7s finished\n",
      "[Parallel(n_jobs=10)]: Using backend LokyBackend with 10 concurrent workers.\n",
      "[Parallel(n_jobs=10)]: Done  39 out of  39 | elapsed:    6.7s finished\n",
      "Features: 40/40"
     ]
    },
    {
     "data": {
      "text/html": [
       "<style>#sk-container-id-1 {color: black;}#sk-container-id-1 pre{padding: 0;}#sk-container-id-1 div.sk-toggleable {background-color: white;}#sk-container-id-1 label.sk-toggleable__label {cursor: pointer;display: block;width: 100%;margin-bottom: 0;padding: 0.3em;box-sizing: border-box;text-align: center;}#sk-container-id-1 label.sk-toggleable__label-arrow:before {content: \"▸\";float: left;margin-right: 0.25em;color: #696969;}#sk-container-id-1 label.sk-toggleable__label-arrow:hover:before {color: black;}#sk-container-id-1 div.sk-estimator:hover label.sk-toggleable__label-arrow:before {color: black;}#sk-container-id-1 div.sk-toggleable__content {max-height: 0;max-width: 0;overflow: hidden;text-align: left;background-color: #f0f8ff;}#sk-container-id-1 div.sk-toggleable__content pre {margin: 0.2em;color: black;border-radius: 0.25em;background-color: #f0f8ff;}#sk-container-id-1 input.sk-toggleable__control:checked~div.sk-toggleable__content {max-height: 200px;max-width: 100%;overflow: auto;}#sk-container-id-1 input.sk-toggleable__control:checked~label.sk-toggleable__label-arrow:before {content: \"▾\";}#sk-container-id-1 div.sk-estimator input.sk-toggleable__control:checked~label.sk-toggleable__label {background-color: #d4ebff;}#sk-container-id-1 div.sk-label input.sk-toggleable__control:checked~label.sk-toggleable__label {background-color: #d4ebff;}#sk-container-id-1 input.sk-hidden--visually {border: 0;clip: rect(1px 1px 1px 1px);clip: rect(1px, 1px, 1px, 1px);height: 1px;margin: -1px;overflow: hidden;padding: 0;position: absolute;width: 1px;}#sk-container-id-1 div.sk-estimator {font-family: monospace;background-color: #f0f8ff;border: 1px dotted black;border-radius: 0.25em;box-sizing: border-box;margin-bottom: 0.5em;}#sk-container-id-1 div.sk-estimator:hover {background-color: #d4ebff;}#sk-container-id-1 div.sk-parallel-item::after {content: \"\";width: 100%;border-bottom: 1px solid gray;flex-grow: 1;}#sk-container-id-1 div.sk-label:hover label.sk-toggleable__label {background-color: #d4ebff;}#sk-container-id-1 div.sk-serial::before {content: \"\";position: absolute;border-left: 1px solid gray;box-sizing: border-box;top: 0;bottom: 0;left: 50%;z-index: 0;}#sk-container-id-1 div.sk-serial {display: flex;flex-direction: column;align-items: center;background-color: white;padding-right: 0.2em;padding-left: 0.2em;position: relative;}#sk-container-id-1 div.sk-item {position: relative;z-index: 1;}#sk-container-id-1 div.sk-parallel {display: flex;align-items: stretch;justify-content: center;background-color: white;position: relative;}#sk-container-id-1 div.sk-item::before, #sk-container-id-1 div.sk-parallel-item::before {content: \"\";position: absolute;border-left: 1px solid gray;box-sizing: border-box;top: 0;bottom: 0;left: 50%;z-index: -1;}#sk-container-id-1 div.sk-parallel-item {display: flex;flex-direction: column;z-index: 1;position: relative;background-color: white;}#sk-container-id-1 div.sk-parallel-item:first-child::after {align-self: flex-end;width: 50%;}#sk-container-id-1 div.sk-parallel-item:last-child::after {align-self: flex-start;width: 50%;}#sk-container-id-1 div.sk-parallel-item:only-child::after {width: 0;}#sk-container-id-1 div.sk-dashed-wrapped {border: 1px dashed gray;margin: 0 0.4em 0.5em 0.4em;box-sizing: border-box;padding-bottom: 0.4em;background-color: white;}#sk-container-id-1 div.sk-label label {font-family: monospace;font-weight: bold;display: inline-block;line-height: 1.2em;}#sk-container-id-1 div.sk-label-container {text-align: center;}#sk-container-id-1 div.sk-container {/* jupyter's `normalize.less` sets `[hidden] { display: none; }` but bootstrap.min.css set `[hidden] { display: none !important; }` so we also need the `!important` here to be able to override the default hidden behavior on the sphinx rendered scikit-learn.org. See: https://github.com/scikit-learn/scikit-learn/issues/21755 */display: inline-block !important;position: relative;}#sk-container-id-1 div.sk-text-repr-fallback {display: none;}</style><div id=\"sk-container-id-1\" class=\"sk-top-container\"><div class=\"sk-text-repr-fallback\"><pre>SequentialFeatureSelector(estimator=LGBMClassifier(random_state=0),\n",
       "                          floating=True, k_features=(1, 40), n_jobs=10,\n",
       "                          scoring=&#x27;f1&#x27;, verbose=True)</pre><b>In a Jupyter environment, please rerun this cell to show the HTML representation or trust the notebook. <br />On GitHub, the HTML representation is unable to render, please try loading this page with nbviewer.org.</b></div><div class=\"sk-container\" hidden><div class=\"sk-item sk-dashed-wrapped\"><div class=\"sk-label-container\"><div class=\"sk-label sk-toggleable\"><input class=\"sk-toggleable__control sk-hidden--visually\" id=\"sk-estimator-id-1\" type=\"checkbox\" ><label for=\"sk-estimator-id-1\" class=\"sk-toggleable__label sk-toggleable__label-arrow\">SequentialFeatureSelector</label><div class=\"sk-toggleable__content\"><pre>SequentialFeatureSelector(estimator=LGBMClassifier(random_state=0),\n",
       "                          floating=True, k_features=(1, 40), n_jobs=10,\n",
       "                          scoring=&#x27;f1&#x27;, verbose=True)</pre></div></div></div><div class=\"sk-parallel\"><div class=\"sk-parallel-item\"><div class=\"sk-item\"><div class=\"sk-label-container\"><div class=\"sk-label sk-toggleable\"><input class=\"sk-toggleable__control sk-hidden--visually\" id=\"sk-estimator-id-2\" type=\"checkbox\" ><label for=\"sk-estimator-id-2\" class=\"sk-toggleable__label sk-toggleable__label-arrow\">estimator: LGBMClassifier</label><div class=\"sk-toggleable__content\"><pre>LGBMClassifier(random_state=0)</pre></div></div></div><div class=\"sk-serial\"><div class=\"sk-item\"><div class=\"sk-estimator sk-toggleable\"><input class=\"sk-toggleable__control sk-hidden--visually\" id=\"sk-estimator-id-3\" type=\"checkbox\" ><label for=\"sk-estimator-id-3\" class=\"sk-toggleable__label sk-toggleable__label-arrow\">LGBMClassifier</label><div class=\"sk-toggleable__content\"><pre>LGBMClassifier(random_state=0)</pre></div></div></div></div></div></div></div></div></div></div>"
      ],
      "text/plain": [
       "SequentialFeatureSelector(estimator=LGBMClassifier(random_state=0),\n",
       "                          floating=True, k_features=(1, 40), n_jobs=10,\n",
       "                          scoring='f1', verbose=True)"
      ]
     },
     "execution_count": 9,
     "metadata": {},
     "output_type": "execute_result"
    }
   ],
   "source": [
    "sfs.fit(train[x_cols], train['y'])"
   ]
  },
  {
   "cell_type": "code",
   "execution_count": 10,
   "metadata": {
    "tags": []
   },
   "outputs": [
    {
     "name": "stdout",
     "output_type": "stream",
     "text": [
      "0.9167072576716999\n"
     ]
    }
   ],
   "source": [
    "estimator = LGBMClassifier(random_state=0)\n",
    "\n",
    "estimator.fit(sfs.transform(train[x_cols]), train['y'])\n",
    "\n",
    "y_pred = estimator.predict(sfs.transform(test[x_cols]))\n",
    "\n",
    "from sklearn.metrics import f1_score\n",
    "\n",
    "print(f1_score(test['y'], y_pred))"
   ]
  },
  {
   "cell_type": "code",
   "execution_count": 13,
   "metadata": {
    "tags": []
   },
   "outputs": [
    {
     "name": "stdout",
     "output_type": "stream",
     "text": [
      "0.9144800777453839\n"
     ]
    }
   ],
   "source": [
    "estimator = LGBMClassifier(random_state=0)\n",
    "\n",
    "estimator.fit(sfs.transform(train[x_cols]), train['y'])\n",
    "\n",
    "y_pred = estimator.predict(sfs.transform(test[x_cols]))\n",
    "\n",
    "from sklearn.metrics import f1_score\n",
    "\n",
    "print(f1_score(test['y'], y_pred))"
   ]
  },
  {
   "cell_type": "code",
   "execution_count": 9,
   "metadata": {
    "tags": []
   },
   "outputs": [
    {
     "name": "stdout",
     "output_type": "stream",
     "text": [
      "0.9169499757163672\n"
     ]
    }
   ],
   "source": [
    "estimator = LGBMClassifier(random_state=0)\n",
    "\n",
    "estimator.fit(rfecv.transform(train[x_cols]), train['y'])\n",
    "\n",
    "y_pred = estimator.predict(rfecv.transform(test[x_cols]))\n",
    "\n",
    "from sklearn.metrics import f1_score\n",
    "\n",
    "print(f1_score(test['y'], y_pred))"
   ]
  },
  {
   "cell_type": "code",
   "execution_count": 6,
   "metadata": {
    "tags": []
   },
   "outputs": [
    {
     "name": "stdout",
     "output_type": "stream",
     "text": [
      "0.9107662463627546\n"
     ]
    }
   ],
   "source": [
    "estimator = LGBMClassifier(random_state=0)\n",
    "\n",
    "estimator.fit(fe.transform(train[x_cols]), train['y'])\n",
    "\n",
    "y_pred = estimator.predict(fe.transform(test[x_cols]))\n",
    "\n",
    "from sklearn.metrics import f1_score\n",
    "\n",
    "print(f1_score(test['y'], y_pred))"
   ]
  },
  {
   "cell_type": "code",
   "execution_count": 26,
   "metadata": {
    "tags": []
   },
   "outputs": [
    {
     "name": "stdout",
     "output_type": "stream",
     "text": [
      "0.9137847053093036\n"
     ]
    }
   ],
   "source": [
    "estimator = LGBMClassifier(random_state=0)\n",
    "\n",
    "estimator.fit(train[x_cols], train['y'])\n",
    "\n",
    "y_pred = estimator.predict(test[x_cols])\n",
    "\n",
    "from sklearn.metrics import f1_score\n",
    "\n",
    "print(f1_score(test['y'], y_pred))"
   ]
  },
  {
   "cell_type": "code",
   "execution_count": 23,
   "metadata": {
    "tags": []
   },
   "outputs": [
    {
     "data": {
      "text/plain": [
       "((8000, 33), 32)"
      ]
     },
     "execution_count": 23,
     "metadata": {},
     "output_type": "execute_result"
    }
   ],
   "source": [
    "sfs.transform(train[x_cols]).shape, len(fe.cols)"
   ]
  },
  {
   "cell_type": "code",
   "execution_count": 6,
   "metadata": {
    "tags": []
   },
   "outputs": [
    {
     "data": {
      "text/plain": [
       "[0,\n",
       " 21,\n",
       " 19,\n",
       " 9,\n",
       " 4,\n",
       " 36,\n",
       " 23,\n",
       " 32,\n",
       " 37,\n",
       " 1,\n",
       " 27,\n",
       " 3,\n",
       " 38,\n",
       " 22,\n",
       " 8,\n",
       " 11,\n",
       " 12,\n",
       " 18,\n",
       " 16,\n",
       " 2,\n",
       " 20,\n",
       " 6,\n",
       " 5,\n",
       " 30,\n",
       " 33,\n",
       " 39,\n",
       " 34,\n",
       " 35,\n",
       " 31,\n",
       " 28,\n",
       " 7,\n",
       " 10,\n",
       " 15]"
      ]
     },
     "execution_count": 6,
     "metadata": {},
     "output_type": "execute_result"
    }
   ],
   "source": [
    "fe.best_cols_"
   ]
  },
  {
   "cell_type": "code",
   "execution_count": null,
   "metadata": {},
   "outputs": [],
   "source": [
    "[0, 21, 32, 31, 10]"
   ]
  },
  {
   "cell_type": "code",
   "execution_count": null,
   "metadata": {},
   "outputs": [],
   "source": []
  }
 ],
 "metadata": {
  "kernelspec": {
   "display_name": "Python 3 (ipykernel)",
   "language": "python",
   "name": "python3"
  },
  "language_info": {
   "codemirror_mode": {
    "name": "ipython",
    "version": 3
   },
   "file_extension": ".py",
   "mimetype": "text/x-python",
   "name": "python",
   "nbconvert_exporter": "python",
   "pygments_lexer": "ipython3",
   "version": "3.11.4"
  }
 },
 "nbformat": 4,
 "nbformat_minor": 4
}
